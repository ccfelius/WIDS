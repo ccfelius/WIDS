{
 "cells": [
  {
   "cell_type": "code",
   "execution_count": 25,
   "id": "1bafc377",
   "metadata": {},
   "outputs": [],
   "source": [
    "import numpy as np\n",
    "import pandas as pd\n",
    "import matplotlib.pyplot as plt\n",
    "import seaborn as sns\n",
    "from sklearn.metrics.pairwise import cosine_similarity,cosine_distances"
   ]
  },
  {
   "cell_type": "code",
   "execution_count": 2,
   "id": "72fad0bd",
   "metadata": {},
   "outputs": [],
   "source": [
    "data = pd.read_csv(\"/Users/charlottefelius/documents/wids2022/WIDS/data/train.csv\")\n",
    "sub = pd.read_csv(\"/Users/charlottefelius/documents/wids2022/WIDS/data/test.csv\")"
   ]
  },
  {
   "cell_type": "code",
   "execution_count": 3,
   "id": "29b02a48",
   "metadata": {},
   "outputs": [
    {
     "data": {
      "text/html": [
       "<div>\n",
       "<style scoped>\n",
       "    .dataframe tbody tr th:only-of-type {\n",
       "        vertical-align: middle;\n",
       "    }\n",
       "\n",
       "    .dataframe tbody tr th {\n",
       "        vertical-align: top;\n",
       "    }\n",
       "\n",
       "    .dataframe thead th {\n",
       "        text-align: right;\n",
       "    }\n",
       "</style>\n",
       "<table border=\"1\" class=\"dataframe\">\n",
       "  <thead>\n",
       "    <tr style=\"text-align: right;\">\n",
       "      <th></th>\n",
       "      <th>Year_Factor</th>\n",
       "      <th>State_Factor</th>\n",
       "      <th>building_class</th>\n",
       "      <th>facility_type</th>\n",
       "      <th>floor_area</th>\n",
       "      <th>year_built</th>\n",
       "      <th>energy_star_rating</th>\n",
       "      <th>ELEVATION</th>\n",
       "      <th>january_min_temp</th>\n",
       "      <th>january_avg_temp</th>\n",
       "      <th>...</th>\n",
       "      <th>days_below_0F</th>\n",
       "      <th>days_above_80F</th>\n",
       "      <th>days_above_90F</th>\n",
       "      <th>days_above_100F</th>\n",
       "      <th>days_above_110F</th>\n",
       "      <th>direction_max_wind_speed</th>\n",
       "      <th>direction_peak_wind_speed</th>\n",
       "      <th>max_wind_speed</th>\n",
       "      <th>days_with_fog</th>\n",
       "      <th>id</th>\n",
       "    </tr>\n",
       "  </thead>\n",
       "  <tbody>\n",
       "    <tr>\n",
       "      <th>0</th>\n",
       "      <td>7</td>\n",
       "      <td>State_1</td>\n",
       "      <td>Commercial</td>\n",
       "      <td>Grocery_store_or_food_market</td>\n",
       "      <td>28484.0</td>\n",
       "      <td>1994.0</td>\n",
       "      <td>37.0</td>\n",
       "      <td>2.4</td>\n",
       "      <td>38</td>\n",
       "      <td>50.596774</td>\n",
       "      <td>...</td>\n",
       "      <td>0</td>\n",
       "      <td>29</td>\n",
       "      <td>5</td>\n",
       "      <td>2</td>\n",
       "      <td>0</td>\n",
       "      <td>NaN</td>\n",
       "      <td>NaN</td>\n",
       "      <td>NaN</td>\n",
       "      <td>NaN</td>\n",
       "      <td>75757</td>\n",
       "    </tr>\n",
       "    <tr>\n",
       "      <th>1</th>\n",
       "      <td>7</td>\n",
       "      <td>State_1</td>\n",
       "      <td>Commercial</td>\n",
       "      <td>Grocery_store_or_food_market</td>\n",
       "      <td>21906.0</td>\n",
       "      <td>1961.0</td>\n",
       "      <td>55.0</td>\n",
       "      <td>45.7</td>\n",
       "      <td>38</td>\n",
       "      <td>50.596774</td>\n",
       "      <td>...</td>\n",
       "      <td>0</td>\n",
       "      <td>29</td>\n",
       "      <td>5</td>\n",
       "      <td>2</td>\n",
       "      <td>0</td>\n",
       "      <td>NaN</td>\n",
       "      <td>NaN</td>\n",
       "      <td>NaN</td>\n",
       "      <td>NaN</td>\n",
       "      <td>75758</td>\n",
       "    </tr>\n",
       "  </tbody>\n",
       "</table>\n",
       "<p>2 rows × 63 columns</p>\n",
       "</div>"
      ],
      "text/plain": [
       "   Year_Factor State_Factor building_class                 facility_type  \\\n",
       "0            7      State_1     Commercial  Grocery_store_or_food_market   \n",
       "1            7      State_1     Commercial  Grocery_store_or_food_market   \n",
       "\n",
       "   floor_area  year_built  energy_star_rating  ELEVATION  january_min_temp  \\\n",
       "0     28484.0      1994.0                37.0        2.4                38   \n",
       "1     21906.0      1961.0                55.0       45.7                38   \n",
       "\n",
       "   january_avg_temp  ...  days_below_0F  days_above_80F  days_above_90F  \\\n",
       "0         50.596774  ...              0              29               5   \n",
       "1         50.596774  ...              0              29               5   \n",
       "\n",
       "   days_above_100F  days_above_110F  direction_max_wind_speed  \\\n",
       "0                2                0                       NaN   \n",
       "1                2                0                       NaN   \n",
       "\n",
       "   direction_peak_wind_speed  max_wind_speed  days_with_fog     id  \n",
       "0                        NaN             NaN            NaN  75757  \n",
       "1                        NaN             NaN            NaN  75758  \n",
       "\n",
       "[2 rows x 63 columns]"
      ]
     },
     "execution_count": 3,
     "metadata": {},
     "output_type": "execute_result"
    }
   ],
   "source": [
    "data.head(2)\n",
    "sub.head(2)"
   ]
  },
  {
   "cell_type": "code",
   "execution_count": 4,
   "id": "b2446f8d",
   "metadata": {},
   "outputs": [],
   "source": [
    "test = data[data[\"State_Factor\"] == \"State_11\"]"
   ]
  },
  {
   "cell_type": "code",
   "execution_count": 5,
   "id": "d09c2811",
   "metadata": {},
   "outputs": [
    {
     "data": {
      "text/plain": [
       "6412"
      ]
     },
     "execution_count": 5,
     "metadata": {},
     "output_type": "execute_result"
    }
   ],
   "source": [
    "len(test)"
   ]
  },
  {
   "cell_type": "code",
   "execution_count": 6,
   "id": "dba23e47",
   "metadata": {},
   "outputs": [
    {
     "name": "stdout",
     "output_type": "stream",
     "text": [
      "Amount of rows and cols respectively (testset)\n",
      "9705, 63\n",
      "\n",
      "Column names:\n",
      "['Year_Factor', 'State_Factor', 'building_class', 'facility_type', 'floor_area', 'year_built', 'energy_star_rating', 'ELEVATION', 'january_min_temp', 'january_avg_temp', 'january_max_temp', 'february_min_temp', 'february_avg_temp', 'february_max_temp', 'march_min_temp', 'march_avg_temp', 'march_max_temp', 'april_min_temp', 'april_avg_temp', 'april_max_temp', 'may_min_temp', 'may_avg_temp', 'may_max_temp', 'june_min_temp', 'june_avg_temp', 'june_max_temp', 'july_min_temp', 'july_avg_temp', 'july_max_temp', 'august_min_temp', 'august_avg_temp', 'august_max_temp', 'september_min_temp', 'september_avg_temp', 'september_max_temp', 'october_min_temp', 'october_avg_temp', 'october_max_temp', 'november_min_temp', 'november_avg_temp', 'november_max_temp', 'december_min_temp', 'december_avg_temp', 'december_max_temp', 'cooling_degree_days', 'heating_degree_days', 'precipitation_inches', 'snowfall_inches', 'snowdepth_inches', 'avg_temp', 'days_below_30F', 'days_below_20F', 'days_below_10F', 'days_below_0F', 'days_above_80F', 'days_above_90F', 'days_above_100F', 'days_above_110F', 'direction_max_wind_speed', 'direction_peak_wind_speed', 'max_wind_speed', 'days_with_fog', 'id']\n",
      "\n"
     ]
    }
   ],
   "source": [
    "print(\"Amount of rows and cols respectively (testset)\")\n",
    "print(str(len(sub)) + \", \" + str(len(sub.columns)) + \"\\n\")\n",
    "print(\"Column names:\")\n",
    "print([i.strip(\"\\n\") for i in sub.columns])\n",
    "print()\n",
    "# print(\"Missing data:\")\n",
    "# print(data.describe())"
   ]
  },
  {
   "cell_type": "code",
   "execution_count": 7,
   "id": "f23a7d89",
   "metadata": {},
   "outputs": [
    {
     "name": "stdout",
     "output_type": "stream",
     "text": [
      "Amount of rows and cols respectively\n",
      "75757, 64\n",
      "\n",
      "Column names:\n",
      "['Year_Factor', 'State_Factor', 'building_class', 'facility_type', 'floor_area', 'year_built', 'energy_star_rating', 'ELEVATION', 'january_min_temp', 'january_avg_temp', 'january_max_temp', 'february_min_temp', 'february_avg_temp', 'february_max_temp', 'march_min_temp', 'march_avg_temp', 'march_max_temp', 'april_min_temp', 'april_avg_temp', 'april_max_temp', 'may_min_temp', 'may_avg_temp', 'may_max_temp', 'june_min_temp', 'june_avg_temp', 'june_max_temp', 'july_min_temp', 'july_avg_temp', 'july_max_temp', 'august_min_temp', 'august_avg_temp', 'august_max_temp', 'september_min_temp', 'september_avg_temp', 'september_max_temp', 'october_min_temp', 'october_avg_temp', 'october_max_temp', 'november_min_temp', 'november_avg_temp', 'november_max_temp', 'december_min_temp', 'december_avg_temp', 'december_max_temp', 'cooling_degree_days', 'heating_degree_days', 'precipitation_inches', 'snowfall_inches', 'snowdepth_inches', 'avg_temp', 'days_below_30F', 'days_below_20F', 'days_below_10F', 'days_below_0F', 'days_above_80F', 'days_above_90F', 'days_above_100F', 'days_above_110F', 'direction_max_wind_speed', 'direction_peak_wind_speed', 'max_wind_speed', 'days_with_fog', 'site_eui', 'id']\n",
      "\n"
     ]
    }
   ],
   "source": [
    "print(\"Amount of rows and cols respectively\")\n",
    "print(str(len(data)) + \", \" + str(len(data.columns)) + \"\\n\")\n",
    "print(\"Column names:\")\n",
    "print([i.strip(\"\\n\") for i in data.columns])\n",
    "print()\n",
    "# print(\"Missing data:\")\n",
    "# print(data.describe())"
   ]
  },
  {
   "cell_type": "markdown",
   "id": "26a94d30",
   "metadata": {},
   "source": [
    "#### Missing data entries"
   ]
  },
  {
   "cell_type": "code",
   "execution_count": 8,
   "id": "3bba76a2",
   "metadata": {},
   "outputs": [
    {
     "name": "stdout",
     "output_type": "stream",
     "text": [
      "('days_with_fog', 45796, '60.45%')\n",
      "('direction_peak_wind_speed', 41811, '55.19%')\n",
      "('direction_max_wind_speed', 41082, '54.23%')\n",
      "('max_wind_speed', 41082, '54.23%')\n",
      "('energy_star_rating', 26709, '35.26%')\n",
      "('year_built', 1837, '2.42%')\n",
      "\n",
      "Missing values testset:\n",
      "('days_with_fog', 9117, '93.94%')\n",
      "('direction_max_wind_speed', 8575, '88.36%')\n",
      "('direction_peak_wind_speed', 8575, '88.36%')\n",
      "('max_wind_speed', 8575, '88.36%')\n",
      "('energy_star_rating', 2254, '23.23%')\n",
      "('year_built', 92, '0.95%')\n"
     ]
    }
   ],
   "source": [
    "def missing_data(dataframe):\n",
    "    \n",
    "    \"\"\"\n",
    "    \n",
    "    Method for calculating missing data\n",
    "    input: dataframe\n",
    "    output: sorted list (descending) with colname, #missing values and percentage of total values\n",
    "    \n",
    "    \"\"\"\n",
    "    \n",
    "    length = len(dataframe)\n",
    "    missing = []\n",
    "    \n",
    "    for column in dataframe.columns:\n",
    "        difference = length - dataframe[column].count()\n",
    "        \n",
    "        if difference > 0:\n",
    "            missing.append((column, difference, str('{0:.2f}'.format(difference/length*100)) +\"%\"))\n",
    "    \n",
    "    missing.sort(key = lambda x: x[1], reverse=True)\n",
    "    \n",
    "    return missing\n",
    "        \n",
    "result = missing_data(data)\n",
    "result2 = missing_data(sub)\n",
    "\n",
    "for i in result:\n",
    "    print(i)\n",
    "\n",
    "print()\n",
    "print(\"Missing values testset:\")\n",
    "\n",
    "for i in result2:\n",
    "    print(i)"
   ]
  },
  {
   "cell_type": "code",
   "execution_count": 9,
   "id": "6bd33d69",
   "metadata": {},
   "outputs": [],
   "source": [
    "# year built probably missing if built a long time ago, hence impute with some things.\n",
    "# delete everything with higher then 50 percent missing stuff\n",
    "\n",
    "data_res = data[data['building_class'] == \"Residential\"]\n",
    "data_com = data[data['building_class'] == \"Commercial\"]\n",
    "sub_res = sub[sub['building_class'] == \"Residential\"]\n",
    "sub_com = sub[sub['building_class'] == \"Commercial\"]"
   ]
  },
  {
   "cell_type": "code",
   "execution_count": 10,
   "id": "ca80c784",
   "metadata": {},
   "outputs": [
    {
     "name": "stdout",
     "output_type": "stream",
     "text": [
      "[('days_with_fog', 24488, '56.22%'), ('direction_peak_wind_speed', 20889, '47.96%'), ('direction_max_wind_speed', 20403, '46.84%'), ('max_wind_speed', 20403, '46.84%'), ('energy_star_rating', 17602, '40.41%'), ('year_built', 408, '0.94%')]\n",
      "\n",
      "[('days_with_fog', 21308, '66.18%'), ('direction_peak_wind_speed', 20922, '64.98%'), ('direction_max_wind_speed', 20679, '64.22%'), ('max_wind_speed', 20679, '64.22%'), ('energy_star_rating', 9107, '28.28%'), ('year_built', 1429, '4.44%')]\n",
      "\n",
      "[('days_with_fog', 3882, '94.73%'), ('direction_max_wind_speed', 3656, '89.21%'), ('direction_peak_wind_speed', 3656, '89.21%'), ('max_wind_speed', 3656, '89.21%'), ('energy_star_rating', 749, '18.28%'), ('year_built', 10, '0.24%')]\n",
      "\n",
      "[('days_with_fog', 5235, '93.37%'), ('direction_max_wind_speed', 4919, '87.73%'), ('direction_peak_wind_speed', 4919, '87.73%'), ('max_wind_speed', 4919, '87.73%'), ('energy_star_rating', 1505, '26.84%'), ('year_built', 82, '1.46%')]\n",
      "\n"
     ]
    }
   ],
   "source": [
    "result_ = missing_data(data_res)\n",
    "result_1 = missing_data(data_com)\n",
    "result_2 = missing_data(sub_res)\n",
    "result__2 = missing_data(sub_com)\n",
    "\n",
    "reslist = [result_, result_1, result_2, result__2]\n",
    "\n",
    "for i in reslist:\n",
    "    print(i)\n",
    "    print()"
   ]
  },
  {
   "cell_type": "code",
   "execution_count": 11,
   "id": "fae37303",
   "metadata": {},
   "outputs": [
    {
     "data": {
      "text/plain": [
       "Year_Factor                    int64\n",
       "State_Factor                  object\n",
       "building_class                object\n",
       "facility_type                 object\n",
       "floor_area                   float64\n",
       "                              ...   \n",
       "direction_peak_wind_speed    float64\n",
       "max_wind_speed               float64\n",
       "days_with_fog                float64\n",
       "site_eui                     float64\n",
       "id                             int64\n",
       "Length: 64, dtype: object"
      ]
     },
     "execution_count": 11,
     "metadata": {},
     "output_type": "execute_result"
    }
   ],
   "source": [
    "#### Data types\n",
    "data.dtypes"
   ]
  },
  {
   "cell_type": "code",
   "execution_count": 12,
   "id": "f09ec8f7",
   "metadata": {},
   "outputs": [
    {
     "name": "stdout",
     "output_type": "stream",
     "text": [
      "State_Factor\n",
      "State_6     50840\n",
      "State_11     6412\n",
      "State_1      5618\n",
      "State_2      4871\n",
      "State_4      4300\n",
      "State_8      3701\n",
      "State_10       15\n",
      "Name: State_Factor, dtype: int64\n",
      "\n",
      "building_class\n",
      "Residential    43558\n",
      "Commercial     32199\n",
      "Name: building_class, dtype: int64\n",
      "\n",
      "facility_type\n",
      "Multifamily_Uncategorized                    39455\n",
      "Office_Uncategorized                         12512\n",
      "Education_Other_classroom                     3860\n",
      "Lodging_Hotel                                 2098\n",
      "2to4_Unit_Building                            1893\n",
      "Commercial_Other                              1744\n",
      "5plus_Unit_Building                           1273\n",
      "Warehouse_Nonrefrigerated                     1255\n",
      "Retail_Uncategorized                          1130\n",
      "Education_College_or_university               1056\n",
      "Nursing_Home                                   772\n",
      "Education_Uncategorized                        709\n",
      "Mixed_Use_Commercial_and_Residential           672\n",
      "Lodging_Dormitory_or_fraternity_sorority       669\n",
      "Warehouse_Distribution_or_Shipping_center      604\n",
      "Warehouse_Selfstorage                          577\n",
      "Grocery_store_or_food_market                   448\n",
      "Office_Medical_non_diagnostic                  447\n",
      "Health_Care_Inpatient                          409\n",
      "Religious_worship                              399\n",
      "Industrial                                     384\n",
      "Warehouse_Uncategorized                        330\n",
      "Mixed_Use_Predominantly_Commercial             256\n",
      "Parking_Garage                                 251\n",
      "Office_Bank_or_other_financial                 173\n",
      "Public_Assembly_Library                        160\n",
      "Public_Safety_Fire_or_police_station           157\n",
      "Public_Assembly_Other                          142\n",
      "Service_Vehicle_service_repair_shop            138\n",
      "Retail_Enclosed_mall                           120\n",
      "Retail_Strip_shopping_mall                     113\n",
      "Warehouse_Refrigerated                         113\n",
      "Public_Assembly_Entertainment_culture          110\n",
      "Education_Preschool_or_daycare                 108\n",
      "Laboratory                                     107\n",
      "Commercial_Unknown                              95\n",
      "Public_Assembly_Social_meeting                  88\n",
      "Lodging_Other                                   75\n",
      "Retail_Vehicle_dealership_showroom              74\n",
      "Public_Assembly_Recreation                      72\n",
      "Food_Sales                                      70\n",
      "Public_Assembly_Drama_theater                   70\n",
      "Service_Uncategorized                           68\n",
      "Food_Service_Restaurant_or_cafeteria            64\n",
      "Health_Care_Outpatient_Clinic                   56\n",
      "Health_Care_Uncategorized                       51\n",
      "Public_Safety_Uncategorized                     43\n",
      "Public_Assembly_Movie_Theater                   39\n",
      "Public_Safety_Courthouse                        38\n",
      "Public_Safety_Penitentiary                      37\n",
      "Health_Care_Outpatient_Uncategorized            36\n",
      "Data_Center                                     27\n",
      "Public_Assembly_Uncategorized                   25\n",
      "Office_Mixed_use                                18\n",
      "Food_Service_Uncategorized                      18\n",
      "Food_Service_Other                              17\n",
      "Mixed_Use_Predominantly_Residential              9\n",
      "Public_Assembly_Stadium                          9\n",
      "Service_Drycleaning_or_Laundry                   9\n",
      "Lodging_Uncategorized                            5\n",
      "Name: facility_type, dtype: int64\n",
      "\n",
      "State_Factor\n",
      "State_11    3268\n",
      "State_4     2568\n",
      "State_2     1515\n",
      "State_8     1323\n",
      "State_1     1027\n",
      "State_10       4\n",
      "Name: State_Factor, dtype: int64\n",
      "\n",
      "building_class\n",
      "Commercial     5607\n",
      "Residential    4098\n",
      "Name: building_class, dtype: int64\n",
      "\n",
      "facility_type\n",
      "Multifamily_Uncategorized                    2199\n",
      "Office_Uncategorized                         1919\n",
      "2to4_Unit_Building                            966\n",
      "Education_Other_classroom                     890\n",
      "5plus_Unit_Building                           685\n",
      "Lodging_Hotel                                 367\n",
      "Commercial_Other                              325\n",
      "Retail_Uncategorized                          225\n",
      "Education_College_or_university               202\n",
      "Mixed_Use_Commercial_and_Residential          193\n",
      "Warehouse_Uncategorized                       157\n",
      "Nursing_Home                                  151\n",
      "Grocery_store_or_food_market                  135\n",
      "Religious_worship                             125\n",
      "Warehouse_Nonrefrigerated                     110\n",
      "Office_Medical_non_diagnostic                 100\n",
      "Lodging_Dormitory_or_fraternity_sorority       99\n",
      "Warehouse_Distribution_or_Shipping_center      94\n",
      "Warehouse_Selfstorage                          80\n",
      "Health_Care_Inpatient                          76\n",
      "Mixed_Use_Predominantly_Commercial             50\n",
      "Industrial                                     47\n",
      "Laboratory                                     44\n",
      "Parking_Garage                                 37\n",
      "Retail_Strip_shopping_mall                     37\n",
      "Retail_Enclosed_mall                           33\n",
      "Public_Assembly_Recreation                     26\n",
      "Office_Bank_or_other_financial                 23\n",
      "Commercial_Unknown                             23\n",
      "Warehouse_Refrigerated                         21\n",
      "Public_Assembly_Entertainment_culture          20\n",
      "Food_Sales                                     19\n",
      "Public_Assembly_Library                        17\n",
      "Food_Service_Restaurant_or_cafeteria           17\n",
      "Public_Safety_Uncategorized                    16\n",
      "Service_Uncategorized                          15\n",
      "Public_Assembly_Drama_theater                  14\n",
      "Public_Assembly_Social_meeting                 14\n",
      "Public_Assembly_Movie_Theater                  13\n",
      "Retail_Vehicle_dealership_showroom             12\n",
      "Education_Uncategorized                        12\n",
      "Service_Vehicle_service_repair_shop             9\n",
      "Public_Safety_Fire_or_police_station            8\n",
      "Public_Safety_Penitentiary                      8\n",
      "Lodging_Other                                   8\n",
      "Public_Assembly_Uncategorized                   8\n",
      "Public_Assembly_Other                           7\n",
      "Public_Safety_Courthouse                        5\n",
      "Mixed_Use_Predominantly_Residential             5\n",
      "Health_Care_Outpatient_Clinic                   5\n",
      "Lodging_Uncategorized                           5\n",
      "Office_Mixed_use                                4\n",
      "Data_Center                                     4\n",
      "Health_Care_Outpatient_Uncategorized            4\n",
      "Food_Service_Uncategorized                      4\n",
      "Public_Assembly_Stadium                         3\n",
      "Food_Service_Other                              3\n",
      "Education_Preschool_or_daycare                  3\n",
      "Service_Drycleaning_or_Laundry                  2\n",
      "Health_Care_Uncategorized                       2\n",
      "Name: facility_type, dtype: int64\n",
      "\n"
     ]
    }
   ],
   "source": [
    "# State_Factor object\n",
    "# building_class object\n",
    "# facility_type object\n",
    "objecttypes = [\"State_Factor\", \"building_class\", \"facility_type\"]\n",
    "\n",
    "for col in objecttypes:\n",
    "    print(col)\n",
    "    print(data[col].value_counts())\n",
    "    print()\n",
    "    \n",
    "for col in objecttypes:\n",
    "    print(col)\n",
    "    print(sub[col].value_counts())\n",
    "    print()"
   ]
  },
  {
   "cell_type": "code",
   "execution_count": 13,
   "id": "2d57826f",
   "metadata": {},
   "outputs": [],
   "source": [
    "alltemps = [string for string in data.columns if 'temp' in string]\n",
    "allstates = list(data[\"State_Factor\"].unique())\n",
    "del allstates[3]"
   ]
  },
  {
   "cell_type": "code",
   "execution_count": 14,
   "id": "daaefbb4",
   "metadata": {},
   "outputs": [
    {
     "ename": "NameError",
     "evalue": "name 'ztop' is not defined",
     "output_type": "error",
     "traceback": [
      "\u001b[0;31m---------------------------------------------------------------------------\u001b[0m",
      "\u001b[0;31mNameError\u001b[0m                                 Traceback (most recent call last)",
      "\u001b[0;32m<ipython-input-14-cd7e5bd0f7ac>\u001b[0m in \u001b[0;36m<module>\u001b[0;34m\u001b[0m\n\u001b[1;32m      1\u001b[0m \u001b[0mallstates\u001b[0m\u001b[0;34m\u001b[0m\u001b[0;34m\u001b[0m\u001b[0m\n\u001b[0;32m----> 2\u001b[0;31m \u001b[0mztop\u001b[0m\u001b[0;34m\u001b[0m\u001b[0;34m\u001b[0m\u001b[0m\n\u001b[0m",
      "\u001b[0;31mNameError\u001b[0m: name 'ztop' is not defined"
     ]
    }
   ],
   "source": [
    "allstates\n",
    "ztop"
   ]
  },
  {
   "cell_type": "code",
   "execution_count": 15,
   "id": "05ebecbb",
   "metadata": {},
   "outputs": [],
   "source": [
    "def calc_vec(state, dataset):\n",
    "    vec = []\n",
    "    \n",
    "    temp = dataset[dataset[\"State_Factor\"] == state]\n",
    "    \n",
    "    for t in alltemps:\n",
    "            vec.append(temp[t].mean())\n",
    "    \n",
    "    return np.asarray(vec)\n",
    "\n",
    "def euclidian_distance_extensive(original, vectors, dataset):\n",
    "    \n",
    "    minval = 999\n",
    "    name = \"Null\"\n",
    "    \n",
    "    for s in allstates:\n",
    "        temp = dataset[dataset[\"State_Factor\"] == s]\n",
    "        \n",
    "        orig = []\n",
    "        diff = []\n",
    "        \n",
    "        for t in alltemps:\n",
    "            orig.append(original[t].mean())\n",
    "            diff.append(temp[t].mean())\n",
    "\n",
    "        o = np.asarray(orig)\n",
    "        d = np.asarray(diff)\n",
    "\n",
    "        dist = np.linalg.norm(o-d)\n",
    "        cosinesim = sklearn.metrics.pairwise.cosine_similarity(o, d)\n",
    "        print(f'{s} has value {dist} and cosine sim {cosinesim}')\n",
    "        \n",
    "        if dist < minval:\n",
    "            minval = dist\n",
    "            name = s\n",
    "    \n",
    "    print()\n",
    "    print(f\"Final value: ({name, minval})\")\n",
    "    return (name, minval)"
   ]
  },
  {
   "cell_type": "code",
   "execution_count": 16,
   "id": "52e4b97c",
   "metadata": {},
   "outputs": [],
   "source": [
    "state_values = dict()\n",
    "\n",
    "for i in allstates:\n",
    "    state_values[i] = calc_vec(i, data)"
   ]
  },
  {
   "cell_type": "code",
   "execution_count": 17,
   "id": "530b89eb",
   "metadata": {},
   "outputs": [],
   "source": [
    "# filter state 6 and replace by most resembling state in terms of temperature.\n",
    "data2 = data.copy()"
   ]
  },
  {
   "cell_type": "code",
   "execution_count": null,
   "id": "f037839d",
   "metadata": {},
   "outputs": [],
   "source": []
  },
  {
   "cell_type": "code",
   "execution_count": 18,
   "id": "33196ae7",
   "metadata": {},
   "outputs": [],
   "source": [
    "newdf = pd.DataFrame(state_values)"
   ]
  },
  {
   "cell_type": "code",
   "execution_count": 19,
   "id": "dfbbf958",
   "metadata": {},
   "outputs": [
    {
     "data": {
      "text/html": [
       "<div>\n",
       "<style scoped>\n",
       "    .dataframe tbody tr th:only-of-type {\n",
       "        vertical-align: middle;\n",
       "    }\n",
       "\n",
       "    .dataframe tbody tr th {\n",
       "        vertical-align: top;\n",
       "    }\n",
       "\n",
       "    .dataframe thead th {\n",
       "        text-align: right;\n",
       "    }\n",
       "</style>\n",
       "<table border=\"1\" class=\"dataframe\">\n",
       "  <thead>\n",
       "    <tr style=\"text-align: right;\">\n",
       "      <th></th>\n",
       "      <th>State_1</th>\n",
       "      <th>State_2</th>\n",
       "      <th>State_4</th>\n",
       "      <th>State_8</th>\n",
       "      <th>State_10</th>\n",
       "      <th>State_11</th>\n",
       "    </tr>\n",
       "  </thead>\n",
       "  <tbody>\n",
       "    <tr>\n",
       "      <th>State_1</th>\n",
       "      <td>1.000000</td>\n",
       "      <td>0.946620</td>\n",
       "      <td>0.947941</td>\n",
       "      <td>0.955325</td>\n",
       "      <td>0.942659</td>\n",
       "      <td>0.972382</td>\n",
       "    </tr>\n",
       "    <tr>\n",
       "      <th>State_2</th>\n",
       "      <td>0.946620</td>\n",
       "      <td>1.000000</td>\n",
       "      <td>0.991296</td>\n",
       "      <td>0.996553</td>\n",
       "      <td>0.998194</td>\n",
       "      <td>0.954647</td>\n",
       "    </tr>\n",
       "    <tr>\n",
       "      <th>State_4</th>\n",
       "      <td>0.947941</td>\n",
       "      <td>0.991296</td>\n",
       "      <td>1.000000</td>\n",
       "      <td>0.989970</td>\n",
       "      <td>0.992244</td>\n",
       "      <td>0.959317</td>\n",
       "    </tr>\n",
       "    <tr>\n",
       "      <th>State_8</th>\n",
       "      <td>0.955325</td>\n",
       "      <td>0.996553</td>\n",
       "      <td>0.989970</td>\n",
       "      <td>1.000000</td>\n",
       "      <td>0.997024</td>\n",
       "      <td>0.961671</td>\n",
       "    </tr>\n",
       "    <tr>\n",
       "      <th>State_10</th>\n",
       "      <td>0.942659</td>\n",
       "      <td>0.998194</td>\n",
       "      <td>0.992244</td>\n",
       "      <td>0.997024</td>\n",
       "      <td>1.000000</td>\n",
       "      <td>0.953749</td>\n",
       "    </tr>\n",
       "    <tr>\n",
       "      <th>State_11</th>\n",
       "      <td>0.972382</td>\n",
       "      <td>0.954647</td>\n",
       "      <td>0.959317</td>\n",
       "      <td>0.961671</td>\n",
       "      <td>0.953749</td>\n",
       "      <td>1.000000</td>\n",
       "    </tr>\n",
       "  </tbody>\n",
       "</table>\n",
       "</div>"
      ],
      "text/plain": [
       "           State_1   State_2   State_4   State_8  State_10  State_11\n",
       "State_1   1.000000  0.946620  0.947941  0.955325  0.942659  0.972382\n",
       "State_2   0.946620  1.000000  0.991296  0.996553  0.998194  0.954647\n",
       "State_4   0.947941  0.991296  1.000000  0.989970  0.992244  0.959317\n",
       "State_8   0.955325  0.996553  0.989970  1.000000  0.997024  0.961671\n",
       "State_10  0.942659  0.998194  0.992244  0.997024  1.000000  0.953749\n",
       "State_11  0.972382  0.954647  0.959317  0.961671  0.953749  1.000000"
      ]
     },
     "execution_count": 19,
     "metadata": {},
     "output_type": "execute_result"
    }
   ],
   "source": [
    "newdf.corr()"
   ]
  },
  {
   "cell_type": "code",
   "execution_count": 20,
   "id": "b5460030",
   "metadata": {},
   "outputs": [],
   "source": [
    "state6 = data2[data2[\"State_Factor\"] == \"State_6\"]\n",
    "state62 = data2[data2[\"State_Factor\"] == \"State_6\"][:1000]"
   ]
  },
  {
   "cell_type": "code",
   "execution_count": 35,
   "id": "2a846c50",
   "metadata": {},
   "outputs": [],
   "source": [
    "# Filter data 2\n",
    "\n",
    "def get_vector(row):\n",
    "    \n",
    "    vec = []\n",
    "    for col in alltemps:\n",
    "        vec.append(row[col])\n",
    "    \n",
    "    return np.asarray(vec)\n",
    "\n",
    "def get_distance(row, distances):\n",
    "    \n",
    "    max_dist = 0\n",
    "    state = \"Null\"\n",
    "    \n",
    "    vec = get_vector(row)\n",
    "\n",
    "    for key, value in distances.items():\n",
    "        \n",
    "#         dist = np.linalg.norm(value-vec)\n",
    "        dist = cosine_similarity(vec.reshape(1,-1),value.reshape(1,-1))\n",
    "#         print(f\"LOG: DIST (COS) ={dist}, STATE={key}\")\n",
    "        \n",
    "        if dist > max_dist:\n",
    "            max_dist = dist\n",
    "            state = key\n",
    "        \n",
    "#     print(f\"LOG: MIN_SIM={max_dist}, STATE={state}\")\n",
    "    return max_dist, state\n",
    "\n",
    "# test"
   ]
  },
  {
   "cell_type": "code",
   "execution_count": 36,
   "id": "80afb5f6",
   "metadata": {},
   "outputs": [],
   "source": [
    "ids = []\n",
    "keys = []\n",
    "\n",
    "for i in range(len(state6)):\n",
    "    row = state6.iloc[i]\n",
    "    ids.append(row['id'])\n",
    "    dist, k = get_distance(row, state_values)\n",
    "    keys.append(k)"
   ]
  },
  {
   "cell_type": "code",
   "execution_count": 37,
   "id": "241a1df8",
   "metadata": {},
   "outputs": [
    {
     "data": {
      "text/plain": [
       "Counter({'State_10': 50832, 'State_8': 5, 'State_2': 1, 'State_4': 2})"
      ]
     },
     "execution_count": 37,
     "metadata": {},
     "output_type": "execute_result"
    }
   ],
   "source": [
    "from collections import Counter\n",
    "\n",
    "c = Counter(keys)\n",
    "\n",
    "c"
   ]
  },
  {
   "cell_type": "code",
   "execution_count": null,
   "id": "ada72ddb",
   "metadata": {},
   "outputs": [],
   "source": [
    "stop"
   ]
  },
  {
   "cell_type": "code",
   "execution_count": null,
   "id": "a33a6bee",
   "metadata": {},
   "outputs": [],
   "source": [
    "ids[:10]"
   ]
  },
  {
   "cell_type": "code",
   "execution_count": null,
   "id": "9a021d49",
   "metadata": {},
   "outputs": [],
   "source": [
    "set(keys)"
   ]
  },
  {
   "cell_type": "code",
   "execution_count": null,
   "id": "0ca30f9d",
   "metadata": {},
   "outputs": [],
   "source": [
    "euclidian_distance_extensive(state6, allstates, data)"
   ]
  },
  {
   "cell_type": "code",
   "execution_count": null,
   "id": "4d06e9a0",
   "metadata": {},
   "outputs": [],
   "source": [
    "alltemps = [string for string in state6.columns if 'temp' in string]"
   ]
  },
  {
   "cell_type": "code",
   "execution_count": null,
   "id": "a8dabf9b",
   "metadata": {},
   "outputs": [],
   "source": [
    "state11 = data[data[\"State_Factor\"] == \"State_2\"]"
   ]
  },
  {
   "cell_type": "code",
   "execution_count": null,
   "id": "1c5fdde2",
   "metadata": {},
   "outputs": [],
   "source": [
    "for t in alltemps:\n",
    "    print(t, state11[t].mean())"
   ]
  },
  {
   "cell_type": "code",
   "execution_count": null,
   "id": "8e67066f",
   "metadata": {},
   "outputs": [],
   "source": [
    "state11.describe()"
   ]
  },
  {
   "cell_type": "markdown",
   "id": "37f57cd5",
   "metadata": {},
   "source": [
    "#### Distribution of values"
   ]
  },
  {
   "cell_type": "code",
   "execution_count": null,
   "id": "2de885f5",
   "metadata": {},
   "outputs": [],
   "source": [
    "def distribution_plots(dataframe):\n",
    "    \n",
    "    \"\"\"\n",
    "    \n",
    "    input: dataframe\n",
    "    output: plots with distribution of each column\n",
    "    \n",
    "    \"\"\"\n",
    "    \n",
    "    for column in dataframe.columns:\n",
    "        plt.hist(dataframe[column], bins = 35)\n",
    "        plt.title(column)\n",
    "        plt.show()"
   ]
  },
  {
   "cell_type": "code",
   "execution_count": null,
   "id": "bb76c1bd",
   "metadata": {},
   "outputs": [],
   "source": [
    "distribution_plots(sub)"
   ]
  },
  {
   "cell_type": "markdown",
   "id": "f1bba843",
   "metadata": {},
   "source": [
    "#### Heatmap (correlations of columns)"
   ]
  },
  {
   "cell_type": "code",
   "execution_count": null,
   "id": "00d40696",
   "metadata": {},
   "outputs": [],
   "source": [
    "sns.heatmap(data.corr())"
   ]
  },
  {
   "cell_type": "code",
   "execution_count": null,
   "id": "33640cf1",
   "metadata": {},
   "outputs": [],
   "source": [
    "for i, j in data.corr()[\"year_built\"].iteritems():\n",
    "    if abs(j) > 0.1:\n",
    "        print(i, j)"
   ]
  },
  {
   "cell_type": "code",
   "execution_count": null,
   "id": "54e3b2df",
   "metadata": {},
   "outputs": [],
   "source": [
    "def check_correlation(dataframe,colname, min_corr = 0.1):\n",
    "    \n",
    "    \"\"\"\n",
    "    \n",
    "    Checks the correlations from a column with all other columns\n",
    "    input: column name -> string, min_corr -> float\n",
    "    output: Ordered list with correlations\n",
    "    \n",
    "    \"\"\"\n",
    "    \n",
    "    print(f\"Correlations of '{colname}':\")\n",
    "    \n",
    "    correlations = []\n",
    "\n",
    "    for i, j in dataframe.corr()[colname].iteritems():\n",
    "        if abs(j) > min_corr:\n",
    "            correlations.append((i, abs(j)))\n",
    "\n",
    "    correlations.sort(key = lambda x: x[1], reverse=True)\n",
    "    \n",
    "    return correlations\n",
    "\n",
    "for i in check_correlation(data, \"site_eui\", 0):\n",
    "    print(i)"
   ]
  },
  {
   "cell_type": "markdown",
   "id": "fdd4e137",
   "metadata": {},
   "source": [
    "### Quick Findings"
   ]
  },
  {
   "cell_type": "markdown",
   "id": "7dec267a",
   "metadata": {},
   "source": [
    "Based on above analysis, we try the following *as a starting point*.\n",
    "\n",
    "> #### Delete the following columns\n",
    "> - days_with_fog\n",
    "> - direction_peak_wind_speed\n",
    "> - direction_max_wind_speed\n",
    "> - max_wind_speed\n",
    "> - year_built\n",
    "> - days_above_90F\n",
    "> - days_above_110F\n",
    "> - facility_type\n",
    "\n",
    "> #### Impute missing values for energy_star_rating and year_built\n",
    "> Imputing is done by taking the median\n",
    "\n",
    "First tries are just a random forest model and xgboost."
   ]
  },
  {
   "cell_type": "markdown",
   "id": "90299f0b",
   "metadata": {},
   "source": [
    "#### Ideas"
   ]
  },
  {
   "cell_type": "markdown",
   "id": "f98bc3f0",
   "metadata": {},
   "source": [
    "> - do PCA within years or something, construct new categories (like in titanic), then one hot encode\n",
    "> - do something with average + st.dev of temperature or something! Write an algorythm that encapsulates this?\n",
    "> - Keep in mind that huge differences in day and night are also importante\n",
    "> - maybe take the diff (max-min) as a variable, normalize, multiply by normalized avg temperture per month.\n",
    "> - sum al days above 80f and under 30f"
   ]
  },
  {
   "cell_type": "code",
   "execution_count": null,
   "id": "faa4bd69",
   "metadata": {},
   "outputs": [],
   "source": [
    "# Energy star rating\n",
    "dat2 = data.loc[data[\"energy_star_rating\"].isnull()]\n",
    "del dat2[\"energy_star_rating\"]"
   ]
  },
  {
   "cell_type": "code",
   "execution_count": null,
   "id": "e2d8c794",
   "metadata": {},
   "outputs": [],
   "source": [
    "distribution_plots(dat2)"
   ]
  },
  {
   "cell_type": "code",
   "execution_count": null,
   "id": "d539786c",
   "metadata": {},
   "outputs": [],
   "source": [
    "# Energy star rating\n",
    "sub2 = sub.loc[sub[\"energy_star_rating\"].isnull()]\n",
    "del sub2[\"energy_star_rating\"]"
   ]
  },
  {
   "cell_type": "code",
   "execution_count": null,
   "id": "2b5d723a",
   "metadata": {},
   "outputs": [],
   "source": [
    "distribution_plots(sub2)"
   ]
  },
  {
   "cell_type": "code",
   "execution_count": null,
   "id": "d60f38b4",
   "metadata": {},
   "outputs": [],
   "source": [
    "sub1 = sub.loc[sub[\"Year_Factor\"] == 7]\n",
    "del sub1[\"Year_Factor\"]"
   ]
  },
  {
   "cell_type": "code",
   "execution_count": null,
   "id": "f604dc84",
   "metadata": {},
   "outputs": [],
   "source": [
    "distribution_plots(sub1)"
   ]
  },
  {
   "cell_type": "code",
   "execution_count": null,
   "id": "20a652a7",
   "metadata": {},
   "outputs": [],
   "source": [
    "sub3 = sub.loc[sub[\"State_Factor\"] == \"State_11\"]\n",
    "del sub3[\"State_Factor\"]\n",
    "\n",
    "# State 11 is only in year factor 7, so for state_11 all energy ratings are missing\n",
    "# Small houses\n"
   ]
  },
  {
   "cell_type": "code",
   "execution_count": null,
   "id": "359b526e",
   "metadata": {},
   "outputs": [],
   "source": [
    "distribution_plots(sub3)"
   ]
  },
  {
   "cell_type": "code",
   "execution_count": null,
   "id": "c3e78166",
   "metadata": {},
   "outputs": [],
   "source": [
    "sub4 = sub.loc[sub[\"Year_Factor\"] == 7]\n",
    "sub4 = sub4.loc[sub4[\"State_Factor\"] == \"State_11\"]\n",
    "distribution_plots(sub4)"
   ]
  },
  {
   "cell_type": "code",
   "execution_count": null,
   "id": "ffd74dbd",
   "metadata": {},
   "outputs": [],
   "source": [
    "data1 = data.loc[data[\"State_Factor\"] == \"State_11\"]\n",
    "data1 = data1.loc[data1[\"State_Factor\"] == \"State_11\"]\n",
    "distribution_plots(data1)"
   ]
  },
  {
   "cell_type": "code",
   "execution_count": null,
   "id": "25686af8",
   "metadata": {},
   "outputs": [],
   "source": [
    "data1.floor_area"
   ]
  },
  {
   "cell_type": "code",
   "execution_count": null,
   "id": "2e346859",
   "metadata": {},
   "outputs": [],
   "source": [
    "print(data1.energy_star_rating.median())\n",
    "print(data1.energy_star_rating.mode())\n",
    "print(data1.energy_star_rating.mean())"
   ]
  },
  {
   "cell_type": "code",
   "execution_count": null,
   "id": "dd86804c",
   "metadata": {},
   "outputs": [],
   "source": [
    "for i in check_correlation(data1, \"site_eui\", 0):\n",
    "    print(i)"
   ]
  },
  {
   "cell_type": "code",
   "execution_count": null,
   "id": "94ecdc54",
   "metadata": {},
   "outputs": [],
   "source": [
    "facilities = test[\"facility_type\"].unique()"
   ]
  },
  {
   "cell_type": "code",
   "execution_count": null,
   "id": "72e98d5e",
   "metadata": {},
   "outputs": [],
   "source": [
    "facilities_len = []\n",
    "for i in facilities:\n",
    "    facilities_len.append((i, len(test[test[\"facility_type\"] == i])))\n",
    "\n",
    "facilities_len.sort(key = lambda x: x[1], reverse=True)\n",
    "facilities_len"
   ]
  },
  {
   "cell_type": "code",
   "execution_count": null,
   "id": "fc7b504d",
   "metadata": {},
   "outputs": [],
   "source": [
    "facilities_len.sort(key = lambda x: x[1], reverse=True)\n",
    "facilities_len"
   ]
  },
  {
   "cell_type": "code",
   "execution_count": null,
   "id": "967cf426",
   "metadata": {},
   "outputs": [],
   "source": [
    "# Take intersection of state_11\n",
    "\n",
    "facilities2 = set(facilities).intersection(set(sub4[\"facility_type\"].unique()))"
   ]
  },
  {
   "cell_type": "code",
   "execution_count": null,
   "id": "365a1170",
   "metadata": {},
   "outputs": [],
   "source": [
    "facilities_len2 = []\n",
    "\n",
    "for i in facilities2:\n",
    "    facilities_len2.append((i, len(test[test[\"facility_type\"] == i])))\n",
    "\n",
    "facilities_len.sort(key = lambda x: x[1], reverse=True)\n",
    "facilities_len"
   ]
  },
  {
   "cell_type": "code",
   "execution_count": null,
   "id": "9eba264a",
   "metadata": {},
   "outputs": [],
   "source": [
    "# groupby facility type, take avg of energy star rating\n",
    "\n",
    "t2 = test.groupby(\"facility_type\").mean()"
   ]
  },
  {
   "cell_type": "code",
   "execution_count": null,
   "id": "54546f52",
   "metadata": {},
   "outputs": [],
   "source": [
    "# Education_College_or_university              52.076923\n",
    "# doe maar 43.813559 voor food_service\n",
    "# make a dictionary hieruit\n",
    "# Warehouse nonrefrigirated 65.781910\n",
    "# Laboratory 1.00\n",
    "# Doe het met deze values!!! want t is allemaal in staat 11\n",
    "\n",
    "t2[\"energy_star_rating\"] "
   ]
  },
  {
   "cell_type": "code",
   "execution_count": null,
   "id": "34cbd658",
   "metadata": {},
   "outputs": [],
   "source": [
    "d32 = data.groupby(\"facility_type\").mean()[\"energy_star_rating\"]"
   ]
  },
  {
   "cell_type": "code",
   "execution_count": null,
   "id": "e1d6f41b",
   "metadata": {},
   "outputs": [],
   "source": [
    "data.groupby(\"facility_type\").count()"
   ]
  }
 ],
 "metadata": {
  "kernelspec": {
   "display_name": "wids",
   "language": "python",
   "name": "wids"
  },
  "language_info": {
   "codemirror_mode": {
    "name": "ipython",
    "version": 3
   },
   "file_extension": ".py",
   "mimetype": "text/x-python",
   "name": "python",
   "nbconvert_exporter": "python",
   "pygments_lexer": "ipython3",
   "version": "3.8.12"
  }
 },
 "nbformat": 4,
 "nbformat_minor": 5
}
