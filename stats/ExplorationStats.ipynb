{
 "cells": [
  {
   "cell_type": "code",
   "execution_count": 2,
   "id": "1bafc377",
   "metadata": {},
   "outputs": [],
   "source": [
    "import numpy as np\n",
    "import pandas as pd"
   ]
  },
  {
   "cell_type": "code",
   "execution_count": 3,
   "id": "72fad0bd",
   "metadata": {},
   "outputs": [],
   "source": [
    "data = pd.read_csv(\"train.csv\")"
   ]
  },
  {
   "cell_type": "code",
   "execution_count": 4,
   "id": "f23a7d89",
   "metadata": {},
   "outputs": [
    {
     "name": "stdout",
     "output_type": "stream",
     "text": [
      "Amount of rows and cols respectively\n",
      "75757, 64\n",
      "\n",
      "Column names:\n",
      "['Year_Factor', 'State_Factor', 'building_class', 'facility_type', 'floor_area', 'year_built', 'energy_star_rating', 'ELEVATION', 'january_min_temp', 'january_avg_temp', 'january_max_temp', 'february_min_temp', 'february_avg_temp', 'february_max_temp', 'march_min_temp', 'march_avg_temp', 'march_max_temp', 'april_min_temp', 'april_avg_temp', 'april_max_temp', 'may_min_temp', 'may_avg_temp', 'may_max_temp', 'june_min_temp', 'june_avg_temp', 'june_max_temp', 'july_min_temp', 'july_avg_temp', 'july_max_temp', 'august_min_temp', 'august_avg_temp', 'august_max_temp', 'september_min_temp', 'september_avg_temp', 'september_max_temp', 'october_min_temp', 'october_avg_temp', 'october_max_temp', 'november_min_temp', 'november_avg_temp', 'november_max_temp', 'december_min_temp', 'december_avg_temp', 'december_max_temp', 'cooling_degree_days', 'heating_degree_days', 'precipitation_inches', 'snowfall_inches', 'snowdepth_inches', 'avg_temp', 'days_below_30F', 'days_below_20F', 'days_below_10F', 'days_below_0F', 'days_above_80F', 'days_above_90F', 'days_above_100F', 'days_above_110F', 'direction_max_wind_speed', 'direction_peak_wind_speed', 'max_wind_speed', 'days_with_fog', 'site_eui', 'id']\n",
      "\n",
      "Missing data:\n",
      "        Year_Factor    floor_area    year_built  energy_star_rating  \\\n",
      "count  75757.000000  7.575700e+04  73920.000000        49048.000000   \n",
      "mean       4.367755  1.659839e+05   1952.306764           61.048605   \n",
      "std        1.471441  2.468758e+05     37.053619           28.663683   \n",
      "min        1.000000  9.430000e+02      0.000000            0.000000   \n",
      "25%        3.000000  6.237900e+04   1927.000000           40.000000   \n",
      "50%        5.000000  9.136700e+04   1951.000000           67.000000   \n",
      "75%        6.000000  1.660000e+05   1977.000000           85.000000   \n",
      "max        6.000000  6.385382e+06   2015.000000          100.000000   \n",
      "\n",
      "          ELEVATION  january_min_temp  january_avg_temp  january_max_temp  \\\n",
      "count  75757.000000      75757.000000      75757.000000      75757.000000   \n",
      "mean      39.506323         11.432343         34.310468         59.054952   \n",
      "std       60.656596          9.381027          6.996108          5.355458   \n",
      "min       -6.400000        -19.000000         10.806452         42.000000   \n",
      "25%       11.900000          6.000000         29.827586         56.000000   \n",
      "50%       25.000000         11.000000         34.451613         59.000000   \n",
      "75%       42.700000         13.000000         37.322581         62.000000   \n",
      "max     1924.500000         49.000000         64.758065         91.000000   \n",
      "\n",
      "       february_min_temp  february_avg_temp  ...  days_above_80F  \\\n",
      "count       75757.000000       75757.000000  ...    75757.000000   \n",
      "mean           11.720567          35.526837  ...       82.709809   \n",
      "std            12.577272           8.866697  ...       25.282913   \n",
      "min           -13.000000          13.250000  ...        0.000000   \n",
      "25%             2.000000          31.625000  ...       72.000000   \n",
      "50%             9.000000          34.107143  ...       84.000000   \n",
      "75%            20.000000          40.879310  ...       97.000000   \n",
      "max            48.000000          65.107143  ...      260.000000   \n",
      "\n",
      "       days_above_90F  days_above_100F  days_above_110F  \\\n",
      "count    75757.000000     75757.000000     75757.000000   \n",
      "mean        14.058701         0.279539         0.002442   \n",
      "std         10.943996         2.252323         0.142140   \n",
      "min          0.000000         0.000000         0.000000   \n",
      "25%          6.000000         0.000000         0.000000   \n",
      "50%         12.000000         0.000000         0.000000   \n",
      "75%         17.000000         0.000000         0.000000   \n",
      "max        185.000000       119.000000        16.000000   \n",
      "\n",
      "       direction_max_wind_speed  direction_peak_wind_speed  max_wind_speed  \\\n",
      "count              34675.000000               33946.000000    34675.000000   \n",
      "mean                  66.552675                  62.779974        4.190601   \n",
      "std                  131.147834                 130.308106        6.458789   \n",
      "min                    1.000000                   1.000000        1.000000   \n",
      "25%                    1.000000                   1.000000        1.000000   \n",
      "50%                    1.000000                   1.000000        1.000000   \n",
      "75%                    1.000000                   1.000000        1.000000   \n",
      "max                  360.000000                 360.000000       23.300000   \n",
      "\n",
      "       days_with_fog      site_eui            id  \n",
      "count   29961.000000  75757.000000  75757.000000  \n",
      "mean      109.142051     82.584693  37878.000000  \n",
      "std        50.699751     58.255403  21869.306509  \n",
      "min        12.000000      1.001169      0.000000  \n",
      "25%        88.000000     54.528601  18939.000000  \n",
      "50%       104.000000     75.293716  37878.000000  \n",
      "75%       131.000000     97.277534  56817.000000  \n",
      "max       311.000000    997.866120  75756.000000  \n",
      "\n",
      "[8 rows x 61 columns]\n"
     ]
    }
   ],
   "source": [
    "print(\"Amount of rows and cols respectively\")\n",
    "print(str(len(data)) + \", \" + str(len(data.columns)) + \"\\n\")\n",
    "print(\"Column names:\")\n",
    "print([i.strip(\"\\n\") for i in data.columns])\n",
    "print()\n",
    "print(\"Missing data:\")\n",
    "print(data.describe())"
   ]
  },
  {
   "cell_type": "code",
   "execution_count": null,
   "id": "3bba76a2",
   "metadata": {},
   "outputs": [],
   "source": [
    "# verschil min max in temp hoog"
   ]
  }
 ],
 "metadata": {
  "kernelspec": {
   "display_name": "wids",
   "language": "python",
   "name": "wids"
  },
  "language_info": {
   "codemirror_mode": {
    "name": "ipython",
    "version": 3
   },
   "file_extension": ".py",
   "mimetype": "text/x-python",
   "name": "python",
   "nbconvert_exporter": "python",
   "pygments_lexer": "ipython3",
   "version": "3.8.12"
  }
 },
 "nbformat": 4,
 "nbformat_minor": 5
}
