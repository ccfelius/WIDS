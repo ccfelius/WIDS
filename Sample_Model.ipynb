{
 "cells": [
  {
   "cell_type": "markdown",
   "id": "abdf7ba1",
   "metadata": {},
   "source": [
    "## Sample Model"
   ]
  },
  {
   "cell_type": "markdown",
   "id": "c65a41f3",
   "metadata": {},
   "source": [
    "Based on the exploration, we try the following *as a starting point*.\n",
    "\n",
    "> #### Delete the following columns\n",
    "> - days_with_fog\n",
    "> - direction_peak_wind_speed\n",
    "> - direction_max_wind_speed\n",
    "> - max_wind_speed\n",
    "> - year_built\n",
    "> - days_above_90F\n",
    "> - days_above_110F\n",
    "> - facility_type\n",
    "> - site_eui (obviously, because target column)\n",
    "> - For now also delete Year_Factor\n",
    "\n",
    "> #### Impute missing values for energy_star_rating \n",
    "> Imputing is done by replacing nan by the mean <br>\n",
    "> By second thoughts we do NOT impute as XGBoost infers missing values\n",
    "\n",
    "> #### One-hot encode categorical values \n",
    "> - State_Factor\n",
    "> - Building_Class\n",
    "\n",
    "For the sample model, we use **random forest** and **xgboost**."
   ]
  },
  {
   "cell_type": "code",
   "execution_count": 1,
   "id": "83b10cec",
   "metadata": {},
   "outputs": [],
   "source": [
    "import sklearn\n",
    "import xgboost as xgb\n",
    "from evaluation import RMSE\n",
    "from evaluation import helper_func\n",
    "import pandas as pd\n",
    "import gc\n",
    "from sklearn.model_selection import train_test_split\n",
    "import numpy as np\n",
    "from sklearn.metrics import mean_squared_error"
   ]
  },
  {
   "cell_type": "markdown",
   "id": "b21cd677",
   "metadata": {},
   "source": [
    "#### Preparing and reading data"
   ]
  },
  {
   "cell_type": "code",
   "execution_count": 2,
   "id": "568b403c",
   "metadata": {},
   "outputs": [],
   "source": [
    "data = pd.read_csv(\"/Users/charlottefelius/documents/wids2022/WIDS/data/train.csv\")\n",
    "submission = pd.read_csv(\"/Users/charlottefelius/documents/wids2022/WIDS/data/test.csv\")"
   ]
  },
  {
   "cell_type": "code",
   "execution_count": 3,
   "id": "ad1c49c0",
   "metadata": {},
   "outputs": [
    {
     "data": {
      "text/plain": [
       "9705"
      ]
     },
     "execution_count": 3,
     "metadata": {},
     "output_type": "execute_result"
    }
   ],
   "source": [
    "len(submission)"
   ]
  },
  {
   "cell_type": "markdown",
   "id": "cce249c5",
   "metadata": {},
   "source": [
    "### Feature engineering"
   ]
  },
  {
   "cell_type": "code",
   "execution_count": 4,
   "id": "33750a61",
   "metadata": {},
   "outputs": [
    {
     "data": {
      "text/plain": [
       "60"
      ]
     },
     "execution_count": 4,
     "metadata": {},
     "output_type": "execute_result"
    }
   ],
   "source": [
    "len(data.facility_type.unique())"
   ]
  },
  {
   "cell_type": "markdown",
   "id": "ddc11e71",
   "metadata": {},
   "source": [
    "#### delete columns"
   ]
  },
  {
   "cell_type": "code",
   "execution_count": 5,
   "id": "a8b22068",
   "metadata": {},
   "outputs": [],
   "source": [
    "reduced = pd.read_csv(\"/Users/charlottefelius/documents/wids2022/WIDS/data/train.csv\")\n",
    "\n",
    "to_delete = [\"days_with_fog\", \"direction_peak_wind_speed\", \"direction_max_wind_speed\", \"max_wind_speed\", \"year_built\", \n",
    "             \"days_above_90F\", \"days_above_110F\", \"facility_type\", \"Year_Factor\"]\n",
    "\n",
    "# to_delete_less = [\"days_with_fog\", \"direction_peak_wind_speed\", \"direction_max_wind_speed\", \"max_wind_speed\"]\n",
    "to_delete_less = [\"days_with_fog\", \"direction_peak_wind_speed\", \"max_wind_speed\"]\n",
    "\n",
    "def delete_cols(dataframe, columns):\n",
    "    for colname in columns:\n",
    "        del dataframe[colname]\n",
    "\n",
    "delete_cols(reduced, to_delete_less)\n",
    "delete_cols(submission, to_delete_less)\n",
    "\n",
    "# # collect garbage\n",
    "# gc.collect()\n"
   ]
  },
  {
   "cell_type": "markdown",
   "id": "61a60d49",
   "metadata": {},
   "source": [
    "#### Impute variables "
   ]
  },
  {
   "cell_type": "code",
   "execution_count": 6,
   "id": "a77abbb9",
   "metadata": {},
   "outputs": [],
   "source": [
    "# impute with mean, ensures highest correlation\n",
    "\n",
    "reduced['energy_star_rating'] = reduced['energy_star_rating'].fillna(56.0)\n",
    "submission['energy_star_rating'] = submission['energy_star_rating'].fillna(56.0)\n",
    "reduced['year_built'] = reduced['year_built'].fillna(reduced['year_built'].median())\n",
    "submission['year_built'] = submission['year_built'].fillna(submission['year_built'].median())"
   ]
  },
  {
   "cell_type": "code",
   "execution_count": 7,
   "id": "0ba6689b",
   "metadata": {},
   "outputs": [],
   "source": [
    "fillmedian = [\"direction_max_wind_speed\"]\n",
    "\n",
    "for i in fillmedian:\n",
    "    reduced[i] = reduced[i].fillna(reduced[i].median())\n",
    "    submission[i] = submission[i].fillna(submission[i].median())"
   ]
  },
  {
   "cell_type": "code",
   "execution_count": 8,
   "id": "160005d7",
   "metadata": {},
   "outputs": [],
   "source": [
    "# test which value enhances highest correlation still\n",
    "# highest_corr = []\n",
    "\n",
    "# for i in data['energy_star_rating'].unique():\n",
    "#     d = pd.read_csv(\"/Users/charlottefelius/documents/wids2022/WIDS/data/train.csv\")\n",
    "#     d['energy_star_rating'] = d['energy_star_rating'].fillna(i)\n",
    "#     correlations = helper_func.get_correlation(d, 'site_eui', 0)[1]\n",
    "#     highest_corr.append((i, correlations[1]))"
   ]
  },
  {
   "cell_type": "markdown",
   "id": "edb1586a",
   "metadata": {},
   "source": [
    "#### Create new columns"
   ]
  },
  {
   "cell_type": "code",
   "execution_count": 9,
   "id": "4954e02a",
   "metadata": {},
   "outputs": [],
   "source": [
    "# below compute sum of below 30 and sum of above 80\n",
    "days_ = [string for string in reduced.columns if 'days_' in string]"
   ]
  },
  {
   "cell_type": "code",
   "execution_count": 10,
   "id": "05b82027",
   "metadata": {},
   "outputs": [],
   "source": [
    "# # below compute sum of below 30 and sum of above 80\n",
    "# reduced['d_below_30_F'] = reduced[list(reduced.filter(regex='days_below_'))].sum(axis=1)\n",
    "# reduced['d_above_80_F'] = reduced[list(reduced.filter(regex='days_above_'))].sum(axis=1)\n",
    "# submission['d_below_30_F'] = submission[list(submission.filter(regex='days_below_'))].sum(axis=1)\n",
    "# submission['d_above_80_F'] = submission[list(submission.filter(regex='days_above_'))].sum(axis=1)"
   ]
  },
  {
   "cell_type": "code",
   "execution_count": 11,
   "id": "3c383485",
   "metadata": {},
   "outputs": [],
   "source": [
    "# delete the other columns\n",
    "# delete_cols(reduced, days_)\n",
    "# delete_cols(submission, days_)"
   ]
  },
  {
   "cell_type": "markdown",
   "id": "f7539abb",
   "metadata": {},
   "source": [
    "#### Onehot encoding"
   ]
  },
  {
   "cell_type": "code",
   "execution_count": 12,
   "id": "4290aca5",
   "metadata": {},
   "outputs": [],
   "source": [
    "onehot = [\"facility_type\", \"State_Factor\", \"building_class\"]\n",
    "\n",
    "def onehotter(dataframe, to_onehot):\n",
    "    \n",
    "    for i in to_onehot:\n",
    "        ohe_df = pd.get_dummies(dataframe[i], prefix=i)\n",
    "\n",
    "        # concat with original data\n",
    "        dataframe = pd.concat([dataframe, ohe_df], axis=1).drop([i], axis=1)\n",
    "        \n",
    "    return dataframe"
   ]
  },
  {
   "cell_type": "code",
   "execution_count": 13,
   "id": "9f16cda1",
   "metadata": {},
   "outputs": [],
   "source": [
    "submission = onehotter(submission, onehot)\n",
    "reduced = onehotter(reduced, onehot)"
   ]
  },
  {
   "cell_type": "code",
   "execution_count": 14,
   "id": "d27eeb32",
   "metadata": {},
   "outputs": [
    {
     "data": {
      "text/plain": [
       "0       75757\n",
       "1       75758\n",
       "2       75759\n",
       "3       75760\n",
       "4       75761\n",
       "        ...  \n",
       "9700    85457\n",
       "9701    85458\n",
       "9702    85459\n",
       "9703    85460\n",
       "9704    85461\n",
       "Name: id, Length: 9705, dtype: int64"
      ]
     },
     "execution_count": 14,
     "metadata": {},
     "output_type": "execute_result"
    }
   ],
   "source": [
    "# save and pop submission id apart\n",
    "Y_test_sub = submission[\"id\"]\n",
    "submission.pop(\"id\")"
   ]
  },
  {
   "cell_type": "markdown",
   "id": "dad6dd21",
   "metadata": {},
   "source": [
    "## Sample model"
   ]
  },
  {
   "cell_type": "code",
   "execution_count": 15,
   "id": "ffc28c90",
   "metadata": {},
   "outputs": [],
   "source": [
    "path = \"/Users/charlottefelius/documents/WIDS2022/WIDS/data/train.csv\""
   ]
  },
  {
   "cell_type": "markdown",
   "id": "84a57133",
   "metadata": {},
   "source": [
    "#### Split into train and test set about  30 / 70 ratio"
   ]
  },
  {
   "cell_type": "code",
   "execution_count": 16,
   "id": "438cb215",
   "metadata": {
    "scrolled": true
   },
   "outputs": [
    {
     "data": {
      "text/plain": [
       "0        0\n",
       "1        0\n",
       "2        0\n",
       "3        0\n",
       "4        0\n",
       "        ..\n",
       "75752    0\n",
       "75753    0\n",
       "75754    0\n",
       "75755    0\n",
       "75756    0\n",
       "Name: State_Factor_State_6, Length: 75757, dtype: uint8"
      ]
     },
     "execution_count": 16,
     "metadata": {},
     "output_type": "execute_result"
    }
   ],
   "source": [
    "X = reduced\n",
    "y = X['site_eui']\n",
    "y_id = X['id']\n",
    "X.pop('site_eui')\n",
    "X.pop('id')\n",
    "X.pop('State_Factor_State_6')"
   ]
  },
  {
   "cell_type": "code",
   "execution_count": 17,
   "id": "319d6fb4",
   "metadata": {},
   "outputs": [],
   "source": [
    "data_dmatrix = xgb.DMatrix(data=X,label=y)"
   ]
  },
  {
   "cell_type": "code",
   "execution_count": 18,
   "id": "e23ce879",
   "metadata": {},
   "outputs": [],
   "source": [
    "X_train, X_test, y_train, y_test = train_test_split(X, y, test_size=0.05, random_state=123)"
   ]
  },
  {
   "cell_type": "code",
   "execution_count": 19,
   "id": "03aeb96f",
   "metadata": {},
   "outputs": [],
   "source": [
    "model = xgb.XGBRegressor(objective ='reg:squarederror', colsample_bytree = 0.3, learning_rate = 0.2,\n",
    "                max_depth = 100, alpha = 0.2, n_estimators = 40)"
   ]
  },
  {
   "cell_type": "code",
   "execution_count": 20,
   "id": "903f5e01",
   "metadata": {},
   "outputs": [
    {
     "name": "stdout",
     "output_type": "stream",
     "text": [
      "RMSE: 38.789511\n"
     ]
    }
   ],
   "source": [
    "# Highest score RMSE: 38.672019\n",
    "\n",
    "model.fit(X_train, y_train)\n",
    "preds = model.predict(X_test)\n",
    "rmse = np.sqrt(mean_squared_error(y_test, preds))\n",
    "print(\"RMSE: %f\" % (rmse))"
   ]
  },
  {
   "cell_type": "code",
   "execution_count": 21,
   "id": "1553f4b1",
   "metadata": {},
   "outputs": [
    {
     "data": {
      "text/plain": [
       "array([ 76.47513 ,  73.636444,  60.30724 , ...,  53.62061 ,  66.924416,\n",
       "       124.64494 ], dtype=float32)"
      ]
     },
     "execution_count": 21,
     "metadata": {},
     "output_type": "execute_result"
    }
   ],
   "source": [
    "# array([ 84.76915,  68.39229, 164.82307, ..., 136.7066 ,  65.37906,\n",
    "#        136.15688], dtype=float32)\n",
    "\n",
    "preds"
   ]
  },
  {
   "cell_type": "code",
   "execution_count": 22,
   "id": "48dc553e",
   "metadata": {},
   "outputs": [
    {
     "ename": "NotImplementedError",
     "evalue": "",
     "output_type": "error",
     "traceback": [
      "\u001b[0;31m---------------------------------------------------------------------------\u001b[0m",
      "\u001b[0;31mNotImplementedError\u001b[0m                       Traceback (most recent call last)",
      "\u001b[0;32m<ipython-input-22-03b9be105f74>\u001b[0m in \u001b[0;36m<module>\u001b[0;34m\u001b[0m\n\u001b[0;32m----> 1\u001b[0;31m \u001b[0;32mraise\u001b[0m \u001b[0mNotImplementedError\u001b[0m\u001b[0;34m(\u001b[0m\u001b[0;34m)\u001b[0m\u001b[0;34m\u001b[0m\u001b[0;34m\u001b[0m\u001b[0m\n\u001b[0m",
      "\u001b[0;31mNotImplementedError\u001b[0m: "
     ]
    }
   ],
   "source": [
    "raise NotImplementedError()"
   ]
  },
  {
   "cell_type": "code",
   "execution_count": null,
   "id": "72d28566",
   "metadata": {},
   "outputs": [],
   "source": [
    "# Now fit on whole training set\n",
    "model.fit(X, y)\n",
    "preds = model.predict(submission)"
   ]
  },
  {
   "cell_type": "code",
   "execution_count": null,
   "id": "6ddf43fd",
   "metadata": {},
   "outputs": [],
   "source": [
    "# Convert Preds to DataFrame \n",
    "\n",
    "result = pd.DataFrame(Y_test_sub)\n",
    "result[\"site_eui\"] = preds"
   ]
  },
  {
   "cell_type": "code",
   "execution_count": null,
   "id": "6c9140a0",
   "metadata": {},
   "outputs": [],
   "source": [
    "# Write to CSV file\n",
    "\n",
    "result.to_csv('/Users/charlottefelius/documents/WIDS2022/WIDS/results/first_attempt9.csv', index=False, header=True)"
   ]
  },
  {
   "cell_type": "code",
   "execution_count": null,
   "id": "65815b96",
   "metadata": {},
   "outputs": [],
   "source": []
  }
 ],
 "metadata": {
  "kernelspec": {
   "display_name": "wids",
   "language": "python",
   "name": "wids"
  },
  "language_info": {
   "codemirror_mode": {
    "name": "ipython",
    "version": 3
   },
   "file_extension": ".py",
   "mimetype": "text/x-python",
   "name": "python",
   "nbconvert_exporter": "python",
   "pygments_lexer": "ipython3",
   "version": "3.8.12"
  }
 },
 "nbformat": 4,
 "nbformat_minor": 5
}
