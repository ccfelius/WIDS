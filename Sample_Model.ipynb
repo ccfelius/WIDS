{
 "cells": [
  {
   "cell_type": "markdown",
   "id": "f17c65de",
   "metadata": {},
   "source": [
    "## Sample Model"
   ]
  },
  {
   "cell_type": "markdown",
   "id": "e7055d7a",
   "metadata": {},
   "source": [
    "Based on the exploration, we try the following *as a starting point*.\n",
    "\n",
    "> #### Delete the following columns\n",
    "> - days_with_fog\n",
    "> - direction_peak_wind_speed\n",
    "> - direction_max_wind_speed\n",
    "> - max_wind_speed\n",
    "> - year_built\n",
    "> - days_above_90F\n",
    "> - days_above_110F\n",
    "> - facility_type\n",
    "> - site_eui (obviously, because target column)\n",
    "> - For now also delete Year_Factor\n",
    "\n",
    "> #### Impute missing values for energy_star_rating \n",
    "> Imputing is done by replacing nan by the mean <br>\n",
    "> By second thoughts we do NOT impute as XGBoost infers missing values\n",
    "\n",
    "> #### One-hot encode categorical values \n",
    "> - State_Factor\n",
    "> - Building_Class\n",
    "\n",
    "For the sample model, we use **random forest** and **xgboost**."
   ]
  },
  {
   "cell_type": "code",
   "execution_count": 1,
   "id": "345114b0",
   "metadata": {},
   "outputs": [],
   "source": [
    "import sklearn\n",
    "import xgboost as xgb\n",
    "from evaluation import RMSE\n",
    "from evaluation import helper_func\n",
    "import pandas as pd\n",
    "import gc\n",
    "from sklearn.model_selection import train_test_split\n",
    "import numpy as np\n",
    "from sklearn.metrics import mean_squared_error"
   ]
  },
  {
   "cell_type": "markdown",
   "id": "fc5558ec",
   "metadata": {},
   "source": [
    "#### Preparing and reading data"
   ]
  },
  {
   "cell_type": "code",
   "execution_count": 21,
   "id": "a85606fb",
   "metadata": {},
   "outputs": [],
   "source": [
    "data = pd.read_csv(\"/Users/charlottefelius/documents/wids2022/WIDS/data/train.csv\")\n",
    "submission = pd.read_csv(\"/Users/charlottefelius/documents/wids2022/WIDS/data/test.csv\")"
   ]
  },
  {
   "cell_type": "code",
   "execution_count": 23,
   "id": "ac60e3a6",
   "metadata": {},
   "outputs": [
    {
     "data": {
      "text/plain": [
       "9705"
      ]
     },
     "execution_count": 23,
     "metadata": {},
     "output_type": "execute_result"
    }
   ],
   "source": [
    "len(submission)"
   ]
  },
  {
   "cell_type": "markdown",
   "id": "8dd94a6b",
   "metadata": {},
   "source": [
    "### Feature engineering"
   ]
  },
  {
   "cell_type": "markdown",
   "id": "bc29d561",
   "metadata": {},
   "source": [
    "#### delete columns"
   ]
  },
  {
   "cell_type": "code",
   "execution_count": 3,
   "id": "37ac392d",
   "metadata": {},
   "outputs": [
    {
     "data": {
      "text/plain": [
       "0"
      ]
     },
     "execution_count": 3,
     "metadata": {},
     "output_type": "execute_result"
    }
   ],
   "source": [
    "reduced = pd.read_csv(\"/Users/charlottefelius/documents/wids2022/WIDS/data/train.csv\")\n",
    "\n",
    "to_delete = [\"days_with_fog\", \"direction_peak_wind_speed\", \"direction_max_wind_speed\", \"max_wind_speed\", \"year_built\", \n",
    "             \"days_above_90F\", \"days_above_110F\", \"facility_type\", \"Year_Factor\"]\n",
    "\n",
    "for colname in to_delete:\n",
    "    del reduced[colname]\n",
    "    del submission[colname]\n",
    "    \n",
    "# collect garbage\n",
    "gc.collect()\n"
   ]
  },
  {
   "cell_type": "code",
   "execution_count": 4,
   "id": "aedb1466",
   "metadata": {},
   "outputs": [
    {
     "name": "stdout",
     "output_type": "stream",
     "text": [
      "Index(['State_Factor', 'building_class', 'floor_area', 'energy_star_rating',\n",
      "       'ELEVATION', 'january_min_temp', 'january_avg_temp', 'january_max_temp',\n",
      "       'february_min_temp', 'february_avg_temp', 'february_max_temp',\n",
      "       'march_min_temp', 'march_avg_temp', 'march_max_temp', 'april_min_temp',\n",
      "       'april_avg_temp', 'april_max_temp', 'may_min_temp', 'may_avg_temp',\n",
      "       'may_max_temp', 'june_min_temp', 'june_avg_temp', 'june_max_temp',\n",
      "       'july_min_temp', 'july_avg_temp', 'july_max_temp', 'august_min_temp',\n",
      "       'august_avg_temp', 'august_max_temp', 'september_min_temp',\n",
      "       'september_avg_temp', 'september_max_temp', 'october_min_temp',\n",
      "       'october_avg_temp', 'october_max_temp', 'november_min_temp',\n",
      "       'november_avg_temp', 'november_max_temp', 'december_min_temp',\n",
      "       'december_avg_temp', 'december_max_temp', 'cooling_degree_days',\n",
      "       'heating_degree_days', 'precipitation_inches', 'snowfall_inches',\n",
      "       'snowdepth_inches', 'avg_temp', 'days_below_30F', 'days_below_20F',\n",
      "       'days_below_10F', 'days_below_0F', 'days_above_80F', 'days_above_100F',\n",
      "       'site_eui', 'id'],\n",
      "      dtype='object')\n",
      "Index(['State_Factor', 'building_class', 'floor_area', 'energy_star_rating',\n",
      "       'ELEVATION', 'january_min_temp', 'january_avg_temp', 'january_max_temp',\n",
      "       'february_min_temp', 'february_avg_temp', 'february_max_temp',\n",
      "       'march_min_temp', 'march_avg_temp', 'march_max_temp', 'april_min_temp',\n",
      "       'april_avg_temp', 'april_max_temp', 'may_min_temp', 'may_avg_temp',\n",
      "       'may_max_temp', 'june_min_temp', 'june_avg_temp', 'june_max_temp',\n",
      "       'july_min_temp', 'july_avg_temp', 'july_max_temp', 'august_min_temp',\n",
      "       'august_avg_temp', 'august_max_temp', 'september_min_temp',\n",
      "       'september_avg_temp', 'september_max_temp', 'october_min_temp',\n",
      "       'october_avg_temp', 'october_max_temp', 'november_min_temp',\n",
      "       'november_avg_temp', 'november_max_temp', 'december_min_temp',\n",
      "       'december_avg_temp', 'december_max_temp', 'cooling_degree_days',\n",
      "       'heating_degree_days', 'precipitation_inches', 'snowfall_inches',\n",
      "       'snowdepth_inches', 'avg_temp', 'days_below_30F', 'days_below_20F',\n",
      "       'days_below_10F', 'days_below_0F', 'days_above_80F', 'days_above_100F',\n",
      "       'id'],\n",
      "      dtype='object')\n"
     ]
    }
   ],
   "source": [
    "# print resulting columns\n",
    "print(reduced.columns)\n",
    "print(submission.columns)"
   ]
  },
  {
   "cell_type": "markdown",
   "id": "508cb59a",
   "metadata": {},
   "source": [
    "#### Impute variables (Skipped)"
   ]
  },
  {
   "cell_type": "code",
   "execution_count": 5,
   "id": "3fc1848a",
   "metadata": {},
   "outputs": [],
   "source": [
    "# impute with mean, ensures highest correlation\n",
    "# reduced['energy_star_rating'] = reduced['energy_star_rating'].fillna(56.0)"
   ]
  },
  {
   "cell_type": "code",
   "execution_count": 6,
   "id": "3079a573",
   "metadata": {},
   "outputs": [],
   "source": [
    "# test which value enhances highest correlation still\n",
    "# highest_corr = []\n",
    "\n",
    "# for i in data['energy_star_rating'].unique():\n",
    "#     d = pd.read_csv(\"/Users/charlottefelius/documents/wids2022/WIDS/data/train.csv\")\n",
    "#     d['energy_star_rating'] = d['energy_star_rating'].fillna(i)\n",
    "#     correlations = helper_func.get_correlation(d, 'site_eui', 0)[1]\n",
    "#     highest_corr.append((i, correlations[1]))"
   ]
  },
  {
   "cell_type": "markdown",
   "id": "3b6f9953",
   "metadata": {},
   "source": [
    "#### Onehot encoding"
   ]
  },
  {
   "cell_type": "code",
   "execution_count": 7,
   "id": "20414fcf",
   "metadata": {},
   "outputs": [],
   "source": [
    "onehot = [\"State_Factor\", \"building_class\"]\n",
    "\n",
    "def onehotter(dataframe, to_onehot):\n",
    "    \n",
    "    for i in to_onehot:\n",
    "        ohe_df = pd.get_dummies(dataframe[i], prefix=i)\n",
    "\n",
    "        # concat with original data\n",
    "        dataframe = pd.concat([dataframe, ohe_df], axis=1).drop([i], axis=1)\n",
    "        \n",
    "    return dataframe"
   ]
  },
  {
   "cell_type": "code",
   "execution_count": 8,
   "id": "f5d89280",
   "metadata": {},
   "outputs": [],
   "source": [
    "submission = onehotter(submission, onehot)\n",
    "reduced = onehotter(reduced, onehot)"
   ]
  },
  {
   "cell_type": "code",
   "execution_count": 9,
   "id": "66bacade",
   "metadata": {},
   "outputs": [
    {
     "data": {
      "text/plain": [
       "Index(['floor_area', 'energy_star_rating', 'ELEVATION', 'january_min_temp',\n",
       "       'january_avg_temp', 'january_max_temp', 'february_min_temp',\n",
       "       'february_avg_temp', 'february_max_temp', 'march_min_temp',\n",
       "       'march_avg_temp', 'march_max_temp', 'april_min_temp', 'april_avg_temp',\n",
       "       'april_max_temp', 'may_min_temp', 'may_avg_temp', 'may_max_temp',\n",
       "       'june_min_temp', 'june_avg_temp', 'june_max_temp', 'july_min_temp',\n",
       "       'july_avg_temp', 'july_max_temp', 'august_min_temp', 'august_avg_temp',\n",
       "       'august_max_temp', 'september_min_temp', 'september_avg_temp',\n",
       "       'september_max_temp', 'october_min_temp', 'october_avg_temp',\n",
       "       'october_max_temp', 'november_min_temp', 'november_avg_temp',\n",
       "       'november_max_temp', 'december_min_temp', 'december_avg_temp',\n",
       "       'december_max_temp', 'cooling_degree_days', 'heating_degree_days',\n",
       "       'precipitation_inches', 'snowfall_inches', 'snowdepth_inches',\n",
       "       'avg_temp', 'days_below_30F', 'days_below_20F', 'days_below_10F',\n",
       "       'days_below_0F', 'days_above_80F', 'days_above_100F', 'id',\n",
       "       'State_Factor_State_1', 'State_Factor_State_10',\n",
       "       'State_Factor_State_11', 'State_Factor_State_2', 'State_Factor_State_4',\n",
       "       'State_Factor_State_8', 'building_class_Commercial',\n",
       "       'building_class_Residential'],\n",
       "      dtype='object')"
      ]
     },
     "execution_count": 9,
     "metadata": {},
     "output_type": "execute_result"
    }
   ],
   "source": [
    "submission.columns"
   ]
  },
  {
   "cell_type": "code",
   "execution_count": 10,
   "id": "190d3d34",
   "metadata": {},
   "outputs": [
    {
     "data": {
      "text/plain": [
       "0       75757\n",
       "1       75758\n",
       "2       75759\n",
       "3       75760\n",
       "4       75761\n",
       "        ...  \n",
       "9700    85457\n",
       "9701    85458\n",
       "9702    85459\n",
       "9703    85460\n",
       "9704    85461\n",
       "Name: id, Length: 9705, dtype: int64"
      ]
     },
     "execution_count": 10,
     "metadata": {},
     "output_type": "execute_result"
    }
   ],
   "source": [
    "# save and pop submission id apart\n",
    "Y_test_sub = submission[\"id\"]\n",
    "submission.pop(\"id\")"
   ]
  },
  {
   "cell_type": "markdown",
   "id": "889e6e81",
   "metadata": {},
   "source": [
    "## Sample model"
   ]
  },
  {
   "cell_type": "code",
   "execution_count": 11,
   "id": "3621f456",
   "metadata": {},
   "outputs": [],
   "source": [
    "path = \"/Users/charlottefelius/documents/WIDS2022/WIDS/data/train.csv\""
   ]
  },
  {
   "cell_type": "markdown",
   "id": "f1329c02",
   "metadata": {},
   "source": [
    "#### Split into train and test set about  30 / 70 ratio"
   ]
  },
  {
   "cell_type": "code",
   "execution_count": 12,
   "id": "18ed8db7",
   "metadata": {
    "scrolled": true
   },
   "outputs": [
    {
     "data": {
      "text/plain": [
       "0        0\n",
       "1        0\n",
       "2        0\n",
       "3        0\n",
       "4        0\n",
       "        ..\n",
       "75752    0\n",
       "75753    0\n",
       "75754    0\n",
       "75755    0\n",
       "75756    0\n",
       "Name: State_Factor_State_6, Length: 75757, dtype: uint8"
      ]
     },
     "execution_count": 12,
     "metadata": {},
     "output_type": "execute_result"
    }
   ],
   "source": [
    "X = reduced\n",
    "y = X['site_eui']\n",
    "y_id = X['id']\n",
    "X.pop('site_eui')\n",
    "X.pop('id')\n",
    "X.pop('State_Factor_State_6')"
   ]
  },
  {
   "cell_type": "code",
   "execution_count": 13,
   "id": "c7cf7c2e",
   "metadata": {},
   "outputs": [],
   "source": [
    "data_dmatrix = xgb.DMatrix(data=X,label=y)"
   ]
  },
  {
   "cell_type": "code",
   "execution_count": 14,
   "id": "af0d1fc0",
   "metadata": {},
   "outputs": [],
   "source": [
    "# X_train, X_test, y_train, y_test = train_test_split(X, y, test_size=0.4, random_state=123)"
   ]
  },
  {
   "cell_type": "code",
   "execution_count": 15,
   "id": "300e890c",
   "metadata": {},
   "outputs": [],
   "source": [
    "xg_reg = xgb.XGBRegressor(objective ='reg:squarederror', colsample_bytree = 0.3, learning_rate = 0.4,\n",
    "                max_depth = 15, alpha = 1, n_estimators = 40)"
   ]
  },
  {
   "cell_type": "code",
   "execution_count": 16,
   "id": "9ec3d045",
   "metadata": {},
   "outputs": [],
   "source": [
    "# xg_reg.fit(X_train, y_train)\n",
    "xg_reg.fit(X, y)\n",
    "\n",
    "preds = xg_reg.predict(submission)\n",
    "# preds = xg_reg.predict(X_test)"
   ]
  },
  {
   "cell_type": "code",
   "execution_count": 17,
   "id": "d11039ee",
   "metadata": {},
   "outputs": [],
   "source": [
    "# rmse = np.sqrt(mean_squared_error(y_test, preds))\n",
    "# print(\"RMSE: %f\" % (rmse))"
   ]
  },
  {
   "cell_type": "code",
   "execution_count": 18,
   "id": "9e7b2023",
   "metadata": {},
   "outputs": [
    {
     "data": {
      "text/plain": [
       "array([ 84.76915,  68.39229, 164.82307, ..., 136.7066 ,  65.37906,\n",
       "       136.15688], dtype=float32)"
      ]
     },
     "execution_count": 18,
     "metadata": {},
     "output_type": "execute_result"
    }
   ],
   "source": [
    "preds"
   ]
  },
  {
   "cell_type": "code",
   "execution_count": 25,
   "id": "e5925322",
   "metadata": {},
   "outputs": [],
   "source": [
    "# Convert Preds to DataFrame \n",
    "\n",
    "result = pd.DataFrame(Y_test_sub)\n",
    "result[\"site_eui\"] = preds"
   ]
  },
  {
   "cell_type": "code",
   "execution_count": 31,
   "id": "175e50c8",
   "metadata": {},
   "outputs": [],
   "source": [
    "# Write to CSV file\n",
    "\n",
    "result.to_csv('/Users/charlottefelius/documents/WIDS2022/WIDS/results/first_attempt.csv', index=False, header=True)"
   ]
  },
  {
   "cell_type": "code",
   "execution_count": null,
   "id": "522507b5",
   "metadata": {},
   "outputs": [],
   "source": []
  }
 ],
 "metadata": {
  "kernelspec": {
   "display_name": "wids",
   "language": "python",
   "name": "wids"
  },
  "language_info": {
   "codemirror_mode": {
    "name": "ipython",
    "version": 3
   },
   "file_extension": ".py",
   "mimetype": "text/x-python",
   "name": "python",
   "nbconvert_exporter": "python",
   "pygments_lexer": "ipython3",
   "version": "3.8.12"
  }
 },
 "nbformat": 4,
 "nbformat_minor": 5
}
