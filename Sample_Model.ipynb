{
 "cells": [
  {
   "cell_type": "markdown",
   "id": "abdf7ba1",
   "metadata": {},
   "source": [
    "## Sample Model"
   ]
  },
  {
   "cell_type": "markdown",
   "id": "c65a41f3",
   "metadata": {},
   "source": [
    "Based on the exploration, we try the following *as a starting point*.\n",
    "\n",
    "> #### Delete the following columns\n",
    "> - days_with_fog\n",
    "> - direction_peak_wind_speed\n",
    "> - direction_max_wind_speed\n",
    "> - max_wind_speed\n",
    "> - year_built\n",
    "> - days_above_90F\n",
    "> - days_above_110F\n",
    "> - facility_type\n",
    "> - site_eui (obviously, because target column)\n",
    "> - For now also delete Year_Factor\n",
    "\n",
    "> #### Impute missing values for energy_star_rating \n",
    "> Imputing is done by replacing nan by the mean <br>\n",
    "> By second thoughts we do NOT impute as XGBoost infers missing values\n",
    "\n",
    "> #### One-hot encode categorical values \n",
    "> - State_Factor\n",
    "> - Building_Class\n",
    "\n",
    "For the sample model, we use **random forest** and **xgboost**."
   ]
  },
  {
   "cell_type": "code",
   "execution_count": 1,
   "id": "83b10cec",
   "metadata": {},
   "outputs": [],
   "source": [
    "import sklearn\n",
    "import xgboost as xgb\n",
    "from evaluation import RMSE\n",
    "from evaluation import helper_func\n",
    "import pandas as pd\n",
    "import gc\n",
    "from sklearn.model_selection import train_test_split\n",
    "import numpy as np\n",
    "from sklearn.metrics import mean_squared_error\n",
    "from catboost import CatBoostRegressor\n",
    "import lightgbm as lgbm\n",
    "import time\n",
    "from sklearn.model_selection import StratifiedKFold\n",
    "from sklearn.model_selection import RepeatedKFold\n",
    "from sklearn.model_selection import KFold\n",
    "import optuna\n",
    "import math\n",
    "from sklearn.model_selection import cross_val_score, KFold"
   ]
  },
  {
   "cell_type": "markdown",
   "id": "b21cd677",
   "metadata": {},
   "source": [
    "#### Preparing and reading data"
   ]
  },
  {
   "cell_type": "code",
   "execution_count": 2,
   "id": "568b403c",
   "metadata": {},
   "outputs": [],
   "source": [
    "data = pd.read_csv(\"/Users/charlottefelius/documents/wids2022/WIDS/data/train.csv\")\n",
    "submission = pd.read_csv(\"/Users/charlottefelius/documents/wids2022/WIDS/data/test.csv\")"
   ]
  },
  {
   "cell_type": "code",
   "execution_count": 3,
   "id": "ad1c49c0",
   "metadata": {},
   "outputs": [
    {
     "data": {
      "text/plain": [
       "9705"
      ]
     },
     "execution_count": 3,
     "metadata": {},
     "output_type": "execute_result"
    }
   ],
   "source": [
    "len(submission)"
   ]
  },
  {
   "cell_type": "markdown",
   "id": "cce249c5",
   "metadata": {},
   "source": [
    "### Feature engineering"
   ]
  },
  {
   "cell_type": "markdown",
   "id": "ddc11e71",
   "metadata": {},
   "source": [
    "#### delete columns"
   ]
  },
  {
   "cell_type": "code",
   "execution_count": 4,
   "id": "a8b22068",
   "metadata": {},
   "outputs": [],
   "source": [
    "reduced = pd.read_csv(\"/Users/charlottefelius/documents/wids2022/WIDS/data/train.csv\")\n",
    "\n",
    "# to_delete = [\"days_with_fog\", \"direction_peak_wind_speed\", \"direction_max_wind_speed\", \"max_wind_speed\",\n",
    "#              \"days_above_90F\", \"days_above_110F\", \"Year_Factor\"]\n",
    "\n",
    "to_delete_less = [\"days_with_fog\", \"direction_peak_wind_speed\", \"direction_max_wind_speed\", \"max_wind_speed\"]\n",
    "# to_delete_less = [\"building_class\"]\n",
    "\n",
    "def delete_cols(dataframe, columns):\n",
    "    for colname in columns:\n",
    "        del dataframe[colname]\n",
    "\n",
    "delete_cols(reduced, to_delete_less)\n",
    "delete_cols(submission, to_delete_less)\n",
    "\n",
    "# # collect garbage\n",
    "# gc.collect()\n"
   ]
  },
  {
   "cell_type": "markdown",
   "id": "6e6dcc4b",
   "metadata": {},
   "source": [
    "#### Temperature difference"
   ]
  },
  {
   "cell_type": "code",
   "execution_count": 5,
   "id": "10863790",
   "metadata": {},
   "outputs": [],
   "source": [
    "min_temp = [string for string in reduced.columns if 'min_temp' in string]\n",
    "max_temp = [string for string in reduced.columns if 'max_temp' in string]"
   ]
  },
  {
   "cell_type": "code",
   "execution_count": 6,
   "id": "30846537",
   "metadata": {},
   "outputs": [],
   "source": [
    "below_ex = [string for string in reduced.columns if 'days_below_30F' in string]\n",
    "above_ex = [string for string in reduced.columns if 'days_above_80F' in string]"
   ]
  },
  {
   "cell_type": "code",
   "execution_count": 7,
   "id": "8df4eeb0",
   "metadata": {},
   "outputs": [
    {
     "data": {
      "text/plain": [
       "['days_above_80F']"
      ]
     },
     "execution_count": 7,
     "metadata": {},
     "output_type": "execute_result"
    }
   ],
   "source": [
    "above_ex"
   ]
  },
  {
   "cell_type": "code",
   "execution_count": 8,
   "id": "e678928d",
   "metadata": {},
   "outputs": [],
   "source": [
    "# Per month, do max - min\n",
    "\n",
    "for min_, max_ in zip(min_temp, max_temp):\n",
    "    name = min_.split(\"min\")[0] + \"diff\"\n",
    "    reduced[name] = reduced[max_] - reduced[min_]\n",
    "    \n",
    "for min_, max_ in zip(min_temp, max_temp):\n",
    "    name = min_.split(\"min\")[0] + \"diff\"\n",
    "    submission[name] = submission[max_] - submission[min_]"
   ]
  },
  {
   "cell_type": "code",
   "execution_count": 9,
   "id": "e1e47cbc",
   "metadata": {},
   "outputs": [],
   "source": [
    "# days_below_10f, days above_100f\n",
    "\n",
    "for min_, max_ in zip(below_ex, above_ex):\n",
    "    name = \"extreme_temp\"\n",
    "    reduced[name] = reduced[max_] - reduced[min_]\n",
    "    \n",
    "for min_, max_ in zip(below_ex, above_ex):\n",
    "    name = \"extreme_temp\"\n",
    "    submission[name] = submission[max_] - submission[min_]"
   ]
  },
  {
   "cell_type": "code",
   "execution_count": 10,
   "id": "798f6e07",
   "metadata": {},
   "outputs": [],
   "source": [
    "# delete_cols(reduced, min_temp)\n",
    "# delete_cols(reduced, max_temp)\n",
    "# delete_cols(submission, min_temp)\n",
    "# delete_cols(submission, max_temp)"
   ]
  },
  {
   "cell_type": "markdown",
   "id": "61a60d49",
   "metadata": {},
   "source": [
    "#### Impute variables "
   ]
  },
  {
   "cell_type": "code",
   "execution_count": 11,
   "id": "a77abbb9",
   "metadata": {},
   "outputs": [],
   "source": [
    "# impute with mean, ensures highest correlation\n",
    "\n",
    "reduced['energy_star_rating'] = reduced['energy_star_rating'].fillna(56.0)\n",
    "submission['energy_star_rating'] = submission['energy_star_rating'].fillna(56.0)\n",
    "# median 76.0 no\n",
    "# 63 random\n",
    "# 56 works best\n",
    "reduced['year_built'] = reduced['year_built'].fillna(reduced['year_built'].median())\n",
    "submission['year_built'] = submission['year_built'].fillna(submission['year_built'].median())"
   ]
  },
  {
   "cell_type": "code",
   "execution_count": 12,
   "id": "049925d3",
   "metadata": {},
   "outputs": [],
   "source": [
    "# fillmedian = [\"direction_max_wind_speed\", \"direction_peak_wind_speed\", \"days_with_fog\", \"max_wind_speed\"]\n",
    "\n",
    "# for i in fillmedian:\n",
    "#     reduced[i] = reduced[i].fillna(reduced[i].median())\n",
    "#     submission[i] = submission[i].fillna(submission[i].median())"
   ]
  },
  {
   "cell_type": "code",
   "execution_count": 13,
   "id": "160005d7",
   "metadata": {},
   "outputs": [],
   "source": [
    "# test which value enhances highest correlation still\n",
    "# highest_corr = []\n",
    "\n",
    "# for i in data['energy_star_rating'].unique():\n",
    "#     d = pd.read_csv(\"/Users/charlottefelius/documents/wids2022/WIDS/data/train.csv\")\n",
    "#     d['energy_star_rating'] = d['energy_star_rating'].fillna(i)\n",
    "#     correlations = helper_func.get_correlation(d, 'site_eui', 0)[1]\n",
    "#     highest_corr.append((i, correlations[1]))"
   ]
  },
  {
   "cell_type": "markdown",
   "id": "61ba7519",
   "metadata": {},
   "source": [
    "#### Create new columns"
   ]
  },
  {
   "cell_type": "code",
   "execution_count": 14,
   "id": "45bf504e",
   "metadata": {},
   "outputs": [],
   "source": [
    "# below compute sum of below 30 and sum of above 80\n",
    "days_ = [string for string in reduced.columns if 'days_' in string]"
   ]
  },
  {
   "cell_type": "code",
   "execution_count": 15,
   "id": "52aa2db7",
   "metadata": {},
   "outputs": [],
   "source": [
    "# # below compute sum of below 30 and sum of above 80\n",
    "# reduced['d_below_30_F'] = reduced[list(reduced.filter(regex='days_below_'))].sum(axis=1)\n",
    "# reduced['d_above_80_F'] = reduced[list(reduced.filter(regex='days_above_'))].sum(axis=1)\n",
    "# submission['d_below_30_F'] = submission[list(submission.filter(regex='days_below_'))].sum(axis=1)\n",
    "# submission['d_above_80_F'] = submission[list(submission.filter(regex='days_above_'))].sum(axis=1)"
   ]
  },
  {
   "cell_type": "code",
   "execution_count": 16,
   "id": "14c1c645",
   "metadata": {},
   "outputs": [],
   "source": [
    "# delete the other columns\n",
    "# delete_cols(reduced, days_)\n",
    "# delete_cols(submission, days_)"
   ]
  },
  {
   "cell_type": "markdown",
   "id": "f7539abb",
   "metadata": {},
   "source": [
    "#### Onehot encoding"
   ]
  },
  {
   "cell_type": "code",
   "execution_count": 17,
   "id": "4290aca5",
   "metadata": {},
   "outputs": [],
   "source": [
    "onehot = [\"facility_type\", \"State_Factor\", \"building_class\"]\n",
    "#\"building_class\"\n",
    "\n",
    "def onehotter(dataframe, to_onehot):\n",
    "    \n",
    "    for i in to_onehot:\n",
    "        ohe_df = pd.get_dummies(dataframe[i], prefix=i)\n",
    "\n",
    "        # concat with original data\n",
    "        dataframe = pd.concat([dataframe, ohe_df], axis=1).drop([i], axis=1)\n",
    "        \n",
    "    return dataframe"
   ]
  },
  {
   "cell_type": "code",
   "execution_count": 18,
   "id": "9f16cda1",
   "metadata": {},
   "outputs": [],
   "source": [
    "submission = onehotter(submission, onehot)\n",
    "reduced = onehotter(reduced, onehot)"
   ]
  },
  {
   "cell_type": "code",
   "execution_count": 19,
   "id": "c5ceb423",
   "metadata": {},
   "outputs": [
    {
     "data": {
      "text/plain": [
       "<bound method IndexOpsMixin.value_counts of 0        0\n",
       "1        0\n",
       "2        0\n",
       "3        0\n",
       "4        0\n",
       "        ..\n",
       "75752    0\n",
       "75753    0\n",
       "75754    0\n",
       "75755    0\n",
       "75756    0\n",
       "Name: State_Factor_State_6, Length: 75757, dtype: uint8>"
      ]
     },
     "execution_count": 19,
     "metadata": {},
     "output_type": "execute_result"
    }
   ],
   "source": [
    "reduced.State_Factor_State_6.value_counts"
   ]
  },
  {
   "cell_type": "code",
   "execution_count": 20,
   "id": "d27eeb32",
   "metadata": {},
   "outputs": [
    {
     "data": {
      "text/plain": [
       "0       75757\n",
       "1       75758\n",
       "2       75759\n",
       "3       75760\n",
       "4       75761\n",
       "        ...  \n",
       "9700    85457\n",
       "9701    85458\n",
       "9702    85459\n",
       "9703    85460\n",
       "9704    85461\n",
       "Name: id, Length: 9705, dtype: int64"
      ]
     },
     "execution_count": 20,
     "metadata": {},
     "output_type": "execute_result"
    }
   ],
   "source": [
    "# save and pop submission id apart\n",
    "Y_test_sub = submission[\"id\"]\n",
    "submission.pop(\"id\")"
   ]
  },
  {
   "cell_type": "markdown",
   "id": "a53b8531",
   "metadata": {},
   "source": [
    "#### Evaluation"
   ]
  },
  {
   "cell_type": "code",
   "execution_count": 21,
   "id": "716e3138",
   "metadata": {},
   "outputs": [],
   "source": [
    "def RMSE(original, predicted):\n",
    "    \n",
    "    aggregate = 0\n",
    "    \n",
    "    for orig, pred in zip(original, predicted):\n",
    "        aggregate += (orig - pred)**2\n",
    "    \n",
    "    RMSE_ = math.sqrt(1/len(original) * aggregate)\n",
    "        \n",
    "    print(f'RMSE: {RMSE_}')\n",
    "    \n",
    "    return RMSE_"
   ]
  },
  {
   "cell_type": "markdown",
   "id": "dad6dd21",
   "metadata": {},
   "source": [
    "## Sample model"
   ]
  },
  {
   "cell_type": "code",
   "execution_count": 22,
   "id": "ffc28c90",
   "metadata": {},
   "outputs": [],
   "source": [
    "path = \"/Users/charlottefelius/documents/WIDS2022/WIDS/data/train.csv\""
   ]
  },
  {
   "cell_type": "markdown",
   "id": "84a57133",
   "metadata": {},
   "source": [
    "#### Split into train and test set about  30 / 70 ratio"
   ]
  },
  {
   "cell_type": "code",
   "execution_count": 23,
   "id": "438cb215",
   "metadata": {
    "scrolled": true
   },
   "outputs": [
    {
     "data": {
      "text/plain": [
       "0        0\n",
       "1        0\n",
       "2        0\n",
       "3        0\n",
       "4        0\n",
       "        ..\n",
       "75752    0\n",
       "75753    0\n",
       "75754    0\n",
       "75755    0\n",
       "75756    0\n",
       "Name: State_Factor_State_6, Length: 75757, dtype: uint8"
      ]
     },
     "execution_count": 23,
     "metadata": {},
     "output_type": "execute_result"
    }
   ],
   "source": [
    "X = reduced\n",
    "y = X['site_eui']\n",
    "y_id = X['id']\n",
    "X.pop('site_eui')\n",
    "X.pop('id')\n",
    "X.pop('State_Factor_State_6')"
   ]
  },
  {
   "cell_type": "code",
   "execution_count": 24,
   "id": "377e06e5",
   "metadata": {},
   "outputs": [
    {
     "ename": "NotImplementedError",
     "evalue": "",
     "output_type": "error",
     "traceback": [
      "\u001b[0;31m---------------------------------------------------------------------------\u001b[0m",
      "\u001b[0;31mNotImplementedError\u001b[0m                       Traceback (most recent call last)",
      "\u001b[0;32m<ipython-input-24-03b9be105f74>\u001b[0m in \u001b[0;36m<module>\u001b[0;34m\u001b[0m\n\u001b[0;32m----> 1\u001b[0;31m \u001b[0;32mraise\u001b[0m \u001b[0mNotImplementedError\u001b[0m\u001b[0;34m(\u001b[0m\u001b[0;34m)\u001b[0m\u001b[0;34m\u001b[0m\u001b[0;34m\u001b[0m\u001b[0m\n\u001b[0m",
      "\u001b[0;31mNotImplementedError\u001b[0m: "
     ]
    }
   ],
   "source": [
    "raise NotImplementedError()"
   ]
  },
  {
   "cell_type": "code",
   "execution_count": 25,
   "id": "e23ce879",
   "metadata": {},
   "outputs": [],
   "source": [
    "X_train, X_test, y_train, y_test = train_test_split(X, y, test_size=0.05, random_state=122)"
   ]
  },
  {
   "cell_type": "markdown",
   "id": "0e990e9d",
   "metadata": {},
   "source": [
    "### XGboost"
   ]
  },
  {
   "cell_type": "code",
   "execution_count": 26,
   "id": "5f6b5c88",
   "metadata": {},
   "outputs": [],
   "source": [
    "data_dmatrix = xgb.DMatrix(data=X,label=y)"
   ]
  },
  {
   "cell_type": "code",
   "execution_count": 27,
   "id": "03aeb96f",
   "metadata": {},
   "outputs": [],
   "source": [
    "model = xgb.XGBRegressor(objective ='reg:squarederror', colsample_bytree = 0.3, learning_rate = 0.2,\n",
    "                max_depth = 11, alpha = 0.2, n_estimators = 500)\n",
    "\n",
    "# 500, 0.2, 35.24"
   ]
  },
  {
   "cell_type": "code",
   "execution_count": 28,
   "id": "903f5e01",
   "metadata": {},
   "outputs": [
    {
     "name": "stdout",
     "output_type": "stream",
     "text": [
      "RMSE: 35.203606\n"
     ]
    }
   ],
   "source": [
    "# Highest score RMSE: 35.203606 40.4 on kaggle\n",
    "\n",
    "\n",
    "\n",
    "model.fit(X_train, y_train)\n",
    "preds = model.predict(X_test)\n",
    "rmse = np.sqrt(mean_squared_error(y_test, preds))\n",
    "print(\"RMSE: %f\" % (rmse))"
   ]
  },
  {
   "cell_type": "markdown",
   "id": "124af072",
   "metadata": {},
   "source": [
    "### LightGBM"
   ]
  },
  {
   "cell_type": "code",
   "execution_count": null,
   "id": "3d099660",
   "metadata": {},
   "outputs": [],
   "source": [
    "X_train, X_test, y_train, y_test = train_test_split(X, y, test_size=0.05, random_state=22)"
   ]
  },
  {
   "cell_type": "code",
   "execution_count": null,
   "id": "c52dcd0a",
   "metadata": {},
   "outputs": [],
   "source": [
    "model = lgbm.LGBMRegressor(max_depth=10, learning_rate=0.2, n_estimators=2400)"
   ]
  },
  {
   "cell_type": "code",
   "execution_count": null,
   "id": "467c6579",
   "metadata": {},
   "outputs": [],
   "source": [
    "model.fit(X_train, y_train)"
   ]
  },
  {
   "cell_type": "code",
   "execution_count": null,
   "id": "fe985b50",
   "metadata": {},
   "outputs": [],
   "source": [
    "# 37.48368551936998\n",
    "\n",
    "predicted = model.predict(X_test)"
   ]
  },
  {
   "cell_type": "code",
   "execution_count": null,
   "id": "9dff9edf",
   "metadata": {},
   "outputs": [],
   "source": [
    "RMSE(y_test, predicted)"
   ]
  },
  {
   "cell_type": "markdown",
   "id": "766bf453",
   "metadata": {},
   "source": [
    "### Catboost (Does not work on Apple M1)"
   ]
  },
  {
   "cell_type": "code",
   "execution_count": null,
   "id": "a983bcf9",
   "metadata": {},
   "outputs": [],
   "source": [
    "MODEL_MAX_DEPTH = 12\n",
    "MODEL_TASK_TYPE = 'GPU'\n",
    "MODEL_RL = 0.025\n",
    "MODEL_EVAL_METRIC ='RMSE'\n",
    "MODEL_LOSS_FUNCTION = 'RMSE'\n",
    "MODEL_ESR = 10\n",
    "MODEL_VERBOSE = 1000\n",
    "MODEL_ITERATIONS = 28000"
   ]
  },
  {
   "cell_type": "code",
   "execution_count": null,
   "id": "6ebb881e",
   "metadata": {},
   "outputs": [],
   "source": [
    "model = CatBoostRegressor(\n",
    "    verbose=1000,\n",
    "    early_stopping_rounds=10,\n",
    "    #random_state=41,\n",
    "    random_seed=535,\n",
    "    max_depth=MODEL_MAX_DEPTH,\n",
    "    task_type=MODEL_TASK_TYPE,\n",
    "    learning_rate=MODEL_RL,\n",
    "    iterations=28000\n",
    "    \n",
    ")\n"
   ]
  },
  {
   "cell_type": "code",
   "execution_count": null,
   "id": "f3e64858",
   "metadata": {},
   "outputs": [],
   "source": [
    "# Highest score RMSE: 38.672019\n",
    "\n",
    "model.fit(X_train, y_train)\n",
    "preds = model.predict(X_test)\n",
    "rmse = np.sqrt(mean_squared_error(y_test, preds))\n",
    "print(\"RMSE: %f\" % (rmse))"
   ]
  },
  {
   "cell_type": "code",
   "execution_count": null,
   "id": "e60b21b3",
   "metadata": {},
   "outputs": [],
   "source": [
    "raise NotImplementedError()"
   ]
  },
  {
   "cell_type": "markdown",
   "id": "edbf62b1",
   "metadata": {},
   "source": [
    "#### Fit testset, write to .csv"
   ]
  },
  {
   "cell_type": "code",
   "execution_count": 29,
   "id": "b8015afe",
   "metadata": {},
   "outputs": [],
   "source": [
    "# Now fit on whole training set\n",
    "model.fit(X, y)\n",
    "predicted = model.predict(submission)"
   ]
  },
  {
   "cell_type": "code",
   "execution_count": 30,
   "id": "6ddf43fd",
   "metadata": {},
   "outputs": [],
   "source": [
    "# Convert Preds to DataFrame \n",
    "\n",
    "result = pd.DataFrame(Y_test_sub)\n",
    "result[\"site_eui\"] = predicted"
   ]
  },
  {
   "cell_type": "code",
   "execution_count": 31,
   "id": "6c9140a0",
   "metadata": {},
   "outputs": [],
   "source": [
    "# Write to CSV file\n",
    "\n",
    "result.to_csv('/Users/charlottefelius/documents/WIDS2022/WIDS/results/attempt27.csv', index=False, header=True)"
   ]
  },
  {
   "cell_type": "code",
   "execution_count": null,
   "id": "721413bb",
   "metadata": {},
   "outputs": [],
   "source": [
    "result"
   ]
  }
 ],
 "metadata": {
  "kernelspec": {
   "display_name": "wids",
   "language": "python",
   "name": "wids"
  },
  "language_info": {
   "codemirror_mode": {
    "name": "ipython",
    "version": 3
   },
   "file_extension": ".py",
   "mimetype": "text/x-python",
   "name": "python",
   "nbconvert_exporter": "python",
   "pygments_lexer": "ipython3",
   "version": "3.8.12"
  }
 },
 "nbformat": 4,
 "nbformat_minor": 5
}
