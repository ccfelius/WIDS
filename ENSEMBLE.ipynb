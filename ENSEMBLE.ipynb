{
 "cells": [
  {
   "cell_type": "markdown",
   "id": "ee9651b3",
   "metadata": {},
   "source": [
    "# To do:\n",
    "\n",
    "- Construct different models (XGboost, LightGBM and Catboost) per facility type, square meters, per state. Maybe even per state per facility type. Delete building type\n",
    "- Take not avg of 3 models but the expm1(mean(log1p(x))) (avg log values)\n",
    "- predict missing energy star ratings by using energy star rating as target value (y_val). Build a ML model for that within only state_11\n",
    "- store alles in een dict to look it up, clean ook memory somehow\n",
    "- kijk welke staten/facilities niet in testset zitten, gooi er wellicht uit?\n",
    "- model per state, because same weather in same state probably"
   ]
  }
 ],
 "metadata": {
  "kernelspec": {
   "display_name": "wids",
   "language": "python",
   "name": "wids"
  },
  "language_info": {
   "codemirror_mode": {
    "name": "ipython",
    "version": 3
   },
   "file_extension": ".py",
   "mimetype": "text/x-python",
   "name": "python",
   "nbconvert_exporter": "python",
   "pygments_lexer": "ipython3",
   "version": "3.8.12"
  }
 },
 "nbformat": 4,
 "nbformat_minor": 5
}
