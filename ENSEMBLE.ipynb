{
 "cells": [
  {
   "cell_type": "markdown",
   "id": "dcd6f3d3",
   "metadata": {},
   "source": [
    "# To do:\n",
    "\n",
    "- Construct different models (XGboost, LightGBM and Catboost) per facility type, square meters, per state. Maybe even per state per facility type. Delete building type\n",
    "- Take not avg of 3 models but the expm1(mean(log1p(x))) (avg log values)"
   ]
  }
 ],
 "metadata": {
  "kernelspec": {
   "display_name": "wids",
   "language": "python",
   "name": "wids"
  },
  "language_info": {
   "codemirror_mode": {
    "name": "ipython",
    "version": 3
   },
   "file_extension": ".py",
   "mimetype": "text/x-python",
   "name": "python",
   "nbconvert_exporter": "python",
   "pygments_lexer": "ipython3",
   "version": "3.8.12"
  }
 },
 "nbformat": 4,
 "nbformat_minor": 5
}
